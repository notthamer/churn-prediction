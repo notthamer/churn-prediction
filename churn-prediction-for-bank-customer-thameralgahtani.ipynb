{
 "cells": [
  {
   "cell_type": "markdown",
   "id": "bb7b5297",
   "metadata": {
    "papermill": {
     "duration": 0.149353,
     "end_time": "2022-03-13T16:33:15.972259",
     "exception": false,
     "start_time": "2022-03-13T16:33:15.822906",
     "status": "completed"
    },
    "tags": []
   },
   "source": [
    "___\n",
    "\n",
    "<p style=\"text-align: center;\"><img src=\"https://docs.google.com/uc?id=1lY0Uj5R04yMY3-ZppPWxqCr5pvBLYPnV\" class=\"img-fluid\" alt=\"CLRSWY\"></p>\n",
    "\n",
    "___"
   ]
  },
  {
   "cell_type": "markdown",
   "id": "daac7f6c",
   "metadata": {
    "papermill": {
     "duration": 0.08049,
     "end_time": "2022-03-13T16:33:16.150241",
     "exception": false,
     "start_time": "2022-03-13T16:33:16.069751",
     "status": "completed"
    },
    "tags": []
   },
   "source": [
    "<h1 style=\"text-align: center;\">Deep Learning<br><br>Assignment-1 (ANN)<br><br>Churn Prediction for Bank Customer<br><h1>"
   ]
  },
  {
   "cell_type": "markdown",
   "id": "7b5153da",
   "metadata": {
    "cell_style": "center",
    "papermill": {
     "duration": 0.079124,
     "end_time": "2022-03-13T16:33:16.795090",
     "exception": false,
     "start_time": "2022-03-13T16:33:16.715966",
     "status": "completed"
    },
    "tags": []
   },
   "source": [
    "## Import  libraries & data"
   ]
  },
  {
   "cell_type": "code",
   "execution_count": 19,
   "metadata": {},
   "outputs": [
    {
     "name": "stdout",
     "output_type": "stream",
     "text": [
      "Requirement already satisfied: tensorflow in /Users/thamer-gahtani/anaconda3/lib/python3.11/site-packages (2.14.0)\n",
      "Requirement already satisfied: tensorflow-macos==2.14.0 in /Users/thamer-gahtani/anaconda3/lib/python3.11/site-packages (from tensorflow) (2.14.0)\n",
      "Requirement already satisfied: absl-py>=1.0.0 in /Users/thamer-gahtani/anaconda3/lib/python3.11/site-packages (from tensorflow-macos==2.14.0->tensorflow) (2.0.0)\n",
      "Requirement already satisfied: astunparse>=1.6.0 in /Users/thamer-gahtani/anaconda3/lib/python3.11/site-packages (from tensorflow-macos==2.14.0->tensorflow) (1.6.3)\n",
      "Requirement already satisfied: flatbuffers>=23.5.26 in /Users/thamer-gahtani/anaconda3/lib/python3.11/site-packages (from tensorflow-macos==2.14.0->tensorflow) (23.5.26)\n",
      "Requirement already satisfied: gast!=0.5.0,!=0.5.1,!=0.5.2,>=0.2.1 in /Users/thamer-gahtani/anaconda3/lib/python3.11/site-packages (from tensorflow-macos==2.14.0->tensorflow) (0.5.4)\n",
      "Requirement already satisfied: google-pasta>=0.1.1 in /Users/thamer-gahtani/anaconda3/lib/python3.11/site-packages (from tensorflow-macos==2.14.0->tensorflow) (0.2.0)\n",
      "Requirement already satisfied: h5py>=2.9.0 in /Users/thamer-gahtani/anaconda3/lib/python3.11/site-packages (from tensorflow-macos==2.14.0->tensorflow) (3.7.0)\n",
      "Requirement already satisfied: libclang>=13.0.0 in /Users/thamer-gahtani/anaconda3/lib/python3.11/site-packages (from tensorflow-macos==2.14.0->tensorflow) (16.0.6)\n",
      "Requirement already satisfied: ml-dtypes==0.2.0 in /Users/thamer-gahtani/anaconda3/lib/python3.11/site-packages (from tensorflow-macos==2.14.0->tensorflow) (0.2.0)\n",
      "Requirement already satisfied: numpy>=1.23.5 in /Users/thamer-gahtani/anaconda3/lib/python3.11/site-packages (from tensorflow-macos==2.14.0->tensorflow) (1.24.3)\n",
      "Requirement already satisfied: opt-einsum>=2.3.2 in /Users/thamer-gahtani/anaconda3/lib/python3.11/site-packages (from tensorflow-macos==2.14.0->tensorflow) (3.3.0)\n",
      "Requirement already satisfied: packaging in /Users/thamer-gahtani/anaconda3/lib/python3.11/site-packages (from tensorflow-macos==2.14.0->tensorflow) (23.0)\n",
      "Requirement already satisfied: protobuf!=4.21.0,!=4.21.1,!=4.21.2,!=4.21.3,!=4.21.4,!=4.21.5,<5.0.0dev,>=3.20.3 in /Users/thamer-gahtani/anaconda3/lib/python3.11/site-packages (from tensorflow-macos==2.14.0->tensorflow) (4.24.4)\n",
      "Requirement already satisfied: setuptools in /Users/thamer-gahtani/anaconda3/lib/python3.11/site-packages (from tensorflow-macos==2.14.0->tensorflow) (67.8.0)\n",
      "Requirement already satisfied: six>=1.12.0 in /Users/thamer-gahtani/anaconda3/lib/python3.11/site-packages (from tensorflow-macos==2.14.0->tensorflow) (1.16.0)\n",
      "Requirement already satisfied: termcolor>=1.1.0 in /Users/thamer-gahtani/anaconda3/lib/python3.11/site-packages (from tensorflow-macos==2.14.0->tensorflow) (2.3.0)\n",
      "Requirement already satisfied: typing-extensions>=3.6.6 in /Users/thamer-gahtani/anaconda3/lib/python3.11/site-packages (from tensorflow-macos==2.14.0->tensorflow) (4.6.3)\n",
      "Requirement already satisfied: wrapt<1.15,>=1.11.0 in /Users/thamer-gahtani/anaconda3/lib/python3.11/site-packages (from tensorflow-macos==2.14.0->tensorflow) (1.14.1)\n",
      "Requirement already satisfied: tensorflow-io-gcs-filesystem>=0.23.1 in /Users/thamer-gahtani/anaconda3/lib/python3.11/site-packages (from tensorflow-macos==2.14.0->tensorflow) (0.34.0)\n",
      "Requirement already satisfied: grpcio<2.0,>=1.24.3 in /Users/thamer-gahtani/anaconda3/lib/python3.11/site-packages (from tensorflow-macos==2.14.0->tensorflow) (1.59.0)\n",
      "Requirement already satisfied: tensorboard<2.15,>=2.14 in /Users/thamer-gahtani/anaconda3/lib/python3.11/site-packages (from tensorflow-macos==2.14.0->tensorflow) (2.14.1)\n",
      "Requirement already satisfied: tensorflow-estimator<2.15,>=2.14.0 in /Users/thamer-gahtani/anaconda3/lib/python3.11/site-packages (from tensorflow-macos==2.14.0->tensorflow) (2.14.0)\n",
      "Requirement already satisfied: keras<2.15,>=2.14.0 in /Users/thamer-gahtani/anaconda3/lib/python3.11/site-packages (from tensorflow-macos==2.14.0->tensorflow) (2.14.0)\n",
      "Requirement already satisfied: wheel<1.0,>=0.23.0 in /Users/thamer-gahtani/anaconda3/lib/python3.11/site-packages (from astunparse>=1.6.0->tensorflow-macos==2.14.0->tensorflow) (0.38.4)\n",
      "Requirement already satisfied: google-auth<3,>=1.6.3 in /Users/thamer-gahtani/anaconda3/lib/python3.11/site-packages (from tensorboard<2.15,>=2.14->tensorflow-macos==2.14.0->tensorflow) (2.23.3)\n",
      "Requirement already satisfied: google-auth-oauthlib<1.1,>=0.5 in /Users/thamer-gahtani/anaconda3/lib/python3.11/site-packages (from tensorboard<2.15,>=2.14->tensorflow-macos==2.14.0->tensorflow) (1.0.0)\n",
      "Requirement already satisfied: markdown>=2.6.8 in /Users/thamer-gahtani/anaconda3/lib/python3.11/site-packages (from tensorboard<2.15,>=2.14->tensorflow-macos==2.14.0->tensorflow) (3.4.1)\n",
      "Requirement already satisfied: requests<3,>=2.21.0 in /Users/thamer-gahtani/anaconda3/lib/python3.11/site-packages (from tensorboard<2.15,>=2.14->tensorflow-macos==2.14.0->tensorflow) (2.29.0)\n",
      "Requirement already satisfied: tensorboard-data-server<0.8.0,>=0.7.0 in /Users/thamer-gahtani/anaconda3/lib/python3.11/site-packages (from tensorboard<2.15,>=2.14->tensorflow-macos==2.14.0->tensorflow) (0.7.2)\n",
      "Requirement already satisfied: werkzeug>=1.0.1 in /Users/thamer-gahtani/anaconda3/lib/python3.11/site-packages (from tensorboard<2.15,>=2.14->tensorflow-macos==2.14.0->tensorflow) (2.2.3)\n",
      "Requirement already satisfied: cachetools<6.0,>=2.0.0 in /Users/thamer-gahtani/anaconda3/lib/python3.11/site-packages (from google-auth<3,>=1.6.3->tensorboard<2.15,>=2.14->tensorflow-macos==2.14.0->tensorflow) (5.3.2)\n",
      "Requirement already satisfied: pyasn1-modules>=0.2.1 in /Users/thamer-gahtani/anaconda3/lib/python3.11/site-packages (from google-auth<3,>=1.6.3->tensorboard<2.15,>=2.14->tensorflow-macos==2.14.0->tensorflow) (0.2.8)\n",
      "Requirement already satisfied: rsa<5,>=3.1.4 in /Users/thamer-gahtani/anaconda3/lib/python3.11/site-packages (from google-auth<3,>=1.6.3->tensorboard<2.15,>=2.14->tensorflow-macos==2.14.0->tensorflow) (4.9)\n",
      "Requirement already satisfied: requests-oauthlib>=0.7.0 in /Users/thamer-gahtani/anaconda3/lib/python3.11/site-packages (from google-auth-oauthlib<1.1,>=0.5->tensorboard<2.15,>=2.14->tensorflow-macos==2.14.0->tensorflow) (1.3.1)\n",
      "Requirement already satisfied: charset-normalizer<4,>=2 in /Users/thamer-gahtani/anaconda3/lib/python3.11/site-packages (from requests<3,>=2.21.0->tensorboard<2.15,>=2.14->tensorflow-macos==2.14.0->tensorflow) (2.0.4)\n",
      "Requirement already satisfied: idna<4,>=2.5 in /Users/thamer-gahtani/anaconda3/lib/python3.11/site-packages (from requests<3,>=2.21.0->tensorboard<2.15,>=2.14->tensorflow-macos==2.14.0->tensorflow) (3.4)\n",
      "Requirement already satisfied: urllib3<1.27,>=1.21.1 in /Users/thamer-gahtani/anaconda3/lib/python3.11/site-packages (from requests<3,>=2.21.0->tensorboard<2.15,>=2.14->tensorflow-macos==2.14.0->tensorflow) (1.26.16)\n",
      "Requirement already satisfied: certifi>=2017.4.17 in /Users/thamer-gahtani/anaconda3/lib/python3.11/site-packages (from requests<3,>=2.21.0->tensorboard<2.15,>=2.14->tensorflow-macos==2.14.0->tensorflow) (2023.5.7)\n",
      "Requirement already satisfied: MarkupSafe>=2.1.1 in /Users/thamer-gahtani/anaconda3/lib/python3.11/site-packages (from werkzeug>=1.0.1->tensorboard<2.15,>=2.14->tensorflow-macos==2.14.0->tensorflow) (2.1.1)\n",
      "Requirement already satisfied: pyasn1<0.5.0,>=0.4.6 in /Users/thamer-gahtani/anaconda3/lib/python3.11/site-packages (from pyasn1-modules>=0.2.1->google-auth<3,>=1.6.3->tensorboard<2.15,>=2.14->tensorflow-macos==2.14.0->tensorflow) (0.4.8)\n",
      "Requirement already satisfied: oauthlib>=3.0.0 in /Users/thamer-gahtani/anaconda3/lib/python3.11/site-packages (from requests-oauthlib>=0.7.0->google-auth-oauthlib<1.1,>=0.5->tensorboard<2.15,>=2.14->tensorflow-macos==2.14.0->tensorflow) (3.2.2)\n",
      "\n",
      "\u001b[1m[\u001b[0m\u001b[34;49mnotice\u001b[0m\u001b[1;39;49m]\u001b[0m\u001b[39;49m A new release of pip is available: \u001b[0m\u001b[31;49m23.2.1\u001b[0m\u001b[39;49m -> \u001b[0m\u001b[32;49m23.3.1\u001b[0m\n",
      "\u001b[1m[\u001b[0m\u001b[34;49mnotice\u001b[0m\u001b[1;39;49m]\u001b[0m\u001b[39;49m To update, run: \u001b[0m\u001b[32;49mpip install --upgrade pip\u001b[0m\n",
      "Requirement already satisfied: keras in /Users/thamer-gahtani/anaconda3/lib/python3.11/site-packages (2.14.0)\n",
      "\n",
      "\u001b[1m[\u001b[0m\u001b[34;49mnotice\u001b[0m\u001b[1;39;49m]\u001b[0m\u001b[39;49m A new release of pip is available: \u001b[0m\u001b[31;49m23.2.1\u001b[0m\u001b[39;49m -> \u001b[0m\u001b[32;49m23.3.1\u001b[0m\n",
      "\u001b[1m[\u001b[0m\u001b[34;49mnotice\u001b[0m\u001b[1;39;49m]\u001b[0m\u001b[39;49m To update, run: \u001b[0m\u001b[32;49mpip install --upgrade pip\u001b[0m\n"
     ]
    }
   ],
   "source": [
    "!pip3 install tensorflow\n",
    "!pip3 install keras\n"
   ]
  },
  {
   "cell_type": "code",
   "execution_count": 20,
   "metadata": {},
   "outputs": [
    {
     "name": "stdout",
     "output_type": "stream",
     "text": [
      "Requirement already satisfied: scikeras in /Users/thamer-gahtani/anaconda3/lib/python3.11/site-packages (0.12.0)\n",
      "Requirement already satisfied: packaging>=0.21 in /Users/thamer-gahtani/anaconda3/lib/python3.11/site-packages (from scikeras) (23.0)\n",
      "Requirement already satisfied: scikit-learn>=1.0.0 in /Users/thamer-gahtani/anaconda3/lib/python3.11/site-packages (from scikeras) (1.2.2)\n",
      "Requirement already satisfied: tensorflow-metal<2.0.0,>=1.1.0 in /Users/thamer-gahtani/anaconda3/lib/python3.11/site-packages (from scikeras) (1.1.0)\n",
      "Requirement already satisfied: numpy>=1.17.3 in /Users/thamer-gahtani/anaconda3/lib/python3.11/site-packages (from scikit-learn>=1.0.0->scikeras) (1.24.3)\n",
      "Requirement already satisfied: scipy>=1.3.2 in /Users/thamer-gahtani/anaconda3/lib/python3.11/site-packages (from scikit-learn>=1.0.0->scikeras) (1.10.1)\n",
      "Requirement already satisfied: joblib>=1.1.1 in /Users/thamer-gahtani/anaconda3/lib/python3.11/site-packages (from scikit-learn>=1.0.0->scikeras) (1.2.0)\n",
      "Requirement already satisfied: threadpoolctl>=2.0.0 in /Users/thamer-gahtani/anaconda3/lib/python3.11/site-packages (from scikit-learn>=1.0.0->scikeras) (2.2.0)\n",
      "Requirement already satisfied: wheel~=0.35 in /Users/thamer-gahtani/anaconda3/lib/python3.11/site-packages (from tensorflow-metal<2.0.0,>=1.1.0->scikeras) (0.38.4)\n",
      "Requirement already satisfied: six>=1.15.0 in /Users/thamer-gahtani/anaconda3/lib/python3.11/site-packages (from tensorflow-metal<2.0.0,>=1.1.0->scikeras) (1.16.0)\n",
      "\n",
      "\u001b[1m[\u001b[0m\u001b[34;49mnotice\u001b[0m\u001b[1;39;49m]\u001b[0m\u001b[39;49m A new release of pip is available: \u001b[0m\u001b[31;49m23.2.1\u001b[0m\u001b[39;49m -> \u001b[0m\u001b[32;49m23.3.1\u001b[0m\n",
      "\u001b[1m[\u001b[0m\u001b[34;49mnotice\u001b[0m\u001b[1;39;49m]\u001b[0m\u001b[39;49m To update, run: \u001b[0m\u001b[32;49mpip install --upgrade pip\u001b[0m\n"
     ]
    }
   ],
   "source": [
    "!pip3 install scikeras\n"
   ]
  },
  {
   "cell_type": "code",
   "execution_count": 21,
   "metadata": {},
   "outputs": [
    {
     "name": "stdout",
     "output_type": "stream",
     "text": [
      "Requirement already satisfied: optuna in /Users/thamer-gahtani/anaconda3/lib/python3.11/site-packages (3.4.0)\n",
      "Requirement already satisfied: alembic>=1.5.0 in /Users/thamer-gahtani/anaconda3/lib/python3.11/site-packages (from optuna) (1.12.1)\n",
      "Requirement already satisfied: colorlog in /Users/thamer-gahtani/anaconda3/lib/python3.11/site-packages (from optuna) (6.7.0)\n",
      "Requirement already satisfied: numpy in /Users/thamer-gahtani/anaconda3/lib/python3.11/site-packages (from optuna) (1.24.3)\n",
      "Requirement already satisfied: packaging>=20.0 in /Users/thamer-gahtani/anaconda3/lib/python3.11/site-packages (from optuna) (23.0)\n",
      "Requirement already satisfied: sqlalchemy>=1.3.0 in /Users/thamer-gahtani/anaconda3/lib/python3.11/site-packages (from optuna) (1.4.39)\n",
      "Requirement already satisfied: tqdm in /Users/thamer-gahtani/anaconda3/lib/python3.11/site-packages (from optuna) (4.65.0)\n",
      "Requirement already satisfied: PyYAML in /Users/thamer-gahtani/anaconda3/lib/python3.11/site-packages (from optuna) (6.0)\n",
      "Requirement already satisfied: Mako in /Users/thamer-gahtani/anaconda3/lib/python3.11/site-packages (from alembic>=1.5.0->optuna) (1.2.4)\n",
      "Requirement already satisfied: typing-extensions>=4 in /Users/thamer-gahtani/anaconda3/lib/python3.11/site-packages (from alembic>=1.5.0->optuna) (4.6.3)\n",
      "Requirement already satisfied: MarkupSafe>=0.9.2 in /Users/thamer-gahtani/anaconda3/lib/python3.11/site-packages (from Mako->alembic>=1.5.0->optuna) (2.1.1)\n",
      "\n",
      "\u001b[1m[\u001b[0m\u001b[34;49mnotice\u001b[0m\u001b[1;39;49m]\u001b[0m\u001b[39;49m A new release of pip is available: \u001b[0m\u001b[31;49m23.2.1\u001b[0m\u001b[39;49m -> \u001b[0m\u001b[32;49m23.3.1\u001b[0m\n",
      "\u001b[1m[\u001b[0m\u001b[34;49mnotice\u001b[0m\u001b[1;39;49m]\u001b[0m\u001b[39;49m To update, run: \u001b[0m\u001b[32;49mpip install --upgrade pip\u001b[0m\n"
     ]
    }
   ],
   "source": [
    "!pip3 install optuna\n"
   ]
  },
  {
   "cell_type": "code",
   "execution_count": 22,
   "id": "bf3892e7",
   "metadata": {
    "cell_style": "center",
    "execution": {
     "iopub.execute_input": "2022-03-13T16:33:18.131665Z",
     "iopub.status.busy": "2022-03-13T16:33:18.130839Z",
     "iopub.status.idle": "2022-03-13T16:33:23.926896Z",
     "shell.execute_reply": "2022-03-13T16:33:23.925653Z",
     "shell.execute_reply.started": "2022-03-13T16:21:21.027408Z"
    },
    "executionInfo": {
     "elapsed": 829,
     "status": "ok",
     "timestamp": 1610204616389,
     "user": {
      "displayName": "Richard C",
      "photoUrl": "",
      "userId": "08040814671867660929"
     },
     "user_tz": -180
    },
    "id": "YzzxpfNaoFyZ",
    "papermill": {
     "duration": 5.881957,
     "end_time": "2022-03-13T16:33:23.927046",
     "exception": false,
     "start_time": "2022-03-13T16:33:18.045089",
     "status": "completed"
    },
    "tags": []
   },
   "outputs": [],
   "source": [
    "import numpy as np\n",
    "import pandas as pd\n",
    "import matplotlib.pyplot as plt\n",
    "import seaborn as sns\n",
    "\n",
    "from sklearn.compose import make_column_transformer\n",
    "from sklearn.preprocessing import OneHotEncoder, StandardScaler, RobustScaler, MinMaxScaler\n",
    "from sklearn.model_selection import train_test_split\n",
    "from sklearn.metrics import recall_score, classification_report, ConfusionMatrixDisplay,\\\n",
    "RocCurveDisplay, roc_auc_score,roc_curve\n",
    "from sklearn.utils.class_weight import compute_class_weight\n",
    "from scikeras.wrappers import KerasClassifier\n",
    "from sklearn.model_selection import cross_validate\n",
    "from sklearn.preprocessing import LabelEncoder\n",
    "\n",
    "\n",
    "import tensorflow as tf\n",
    "from tensorflow.keras.models import Sequential\n",
    "from tensorflow.keras.layers import Input, Dense, Activation, Dropout\n",
    "from tensorflow.keras.optimizers import Adam, Adadelta, RMSprop, Nadam\n",
    "from tensorflow.keras.callbacks import EarlyStopping\n",
    "from tensorflow.keras.models import load_model\n",
    "\n",
    "import pickle\n",
    "import warnings\n",
    "import os\n",
    "import optuna\n",
    "\n",
    "warnings.filterwarnings('ignore')\n",
    "os.environ['TF_CPP_MIN_LOG_LEVEL'] = '1'\n",
    "sns.set_style('whitegrid')"
   ]
  },
  {
   "cell_type": "code",
   "execution_count": 23,
   "id": "ef6722a3",
   "metadata": {
    "execution": {
     "iopub.execute_input": "2022-03-13T16:33:24.094821Z",
     "iopub.status.busy": "2022-03-13T16:33:24.093885Z",
     "iopub.status.idle": "2022-03-13T16:33:24.164146Z",
     "shell.execute_reply": "2022-03-13T16:33:24.164742Z",
     "shell.execute_reply.started": "2022-03-13T16:21:25.568333Z"
    },
    "papermill": {
     "duration": 0.156369,
     "end_time": "2022-03-13T16:33:24.164911",
     "exception": false,
     "start_time": "2022-03-13T16:33:24.008542",
     "status": "completed"
    },
    "tags": []
   },
   "outputs": [
    {
     "data": {
      "text/html": [
       "<div>\n",
       "<style scoped>\n",
       "    .dataframe tbody tr th:only-of-type {\n",
       "        vertical-align: middle;\n",
       "    }\n",
       "\n",
       "    .dataframe tbody tr th {\n",
       "        vertical-align: top;\n",
       "    }\n",
       "\n",
       "    .dataframe thead th {\n",
       "        text-align: right;\n",
       "    }\n",
       "</style>\n",
       "<table border=\"1\" class=\"dataframe\">\n",
       "  <thead>\n",
       "    <tr style=\"text-align: right;\">\n",
       "      <th></th>\n",
       "      <th>RowNumber</th>\n",
       "      <th>CustomerId</th>\n",
       "      <th>Surname</th>\n",
       "      <th>CreditScore</th>\n",
       "      <th>Geography</th>\n",
       "      <th>Gender</th>\n",
       "      <th>Age</th>\n",
       "      <th>Tenure</th>\n",
       "      <th>Balance</th>\n",
       "      <th>NumOfProducts</th>\n",
       "      <th>HasCrCard</th>\n",
       "      <th>IsActiveMember</th>\n",
       "      <th>EstimatedSalary</th>\n",
       "      <th>Exited</th>\n",
       "    </tr>\n",
       "  </thead>\n",
       "  <tbody>\n",
       "    <tr>\n",
       "      <th>0</th>\n",
       "      <td>1</td>\n",
       "      <td>15634602</td>\n",
       "      <td>Hargrave</td>\n",
       "      <td>619</td>\n",
       "      <td>France</td>\n",
       "      <td>Female</td>\n",
       "      <td>42</td>\n",
       "      <td>2</td>\n",
       "      <td>0.00</td>\n",
       "      <td>1</td>\n",
       "      <td>1</td>\n",
       "      <td>1</td>\n",
       "      <td>101348.88</td>\n",
       "      <td>1</td>\n",
       "    </tr>\n",
       "    <tr>\n",
       "      <th>1</th>\n",
       "      <td>2</td>\n",
       "      <td>15647311</td>\n",
       "      <td>Hill</td>\n",
       "      <td>608</td>\n",
       "      <td>Spain</td>\n",
       "      <td>Female</td>\n",
       "      <td>41</td>\n",
       "      <td>1</td>\n",
       "      <td>83807.86</td>\n",
       "      <td>1</td>\n",
       "      <td>0</td>\n",
       "      <td>1</td>\n",
       "      <td>112542.58</td>\n",
       "      <td>0</td>\n",
       "    </tr>\n",
       "    <tr>\n",
       "      <th>2</th>\n",
       "      <td>3</td>\n",
       "      <td>15619304</td>\n",
       "      <td>Onio</td>\n",
       "      <td>502</td>\n",
       "      <td>France</td>\n",
       "      <td>Female</td>\n",
       "      <td>42</td>\n",
       "      <td>8</td>\n",
       "      <td>159660.80</td>\n",
       "      <td>3</td>\n",
       "      <td>1</td>\n",
       "      <td>0</td>\n",
       "      <td>113931.57</td>\n",
       "      <td>1</td>\n",
       "    </tr>\n",
       "  </tbody>\n",
       "</table>\n",
       "</div>"
      ],
      "text/plain": [
       "   RowNumber  CustomerId   Surname  CreditScore Geography  Gender  Age  \\\n",
       "0          1    15634602  Hargrave          619    France  Female   42   \n",
       "1          2    15647311      Hill          608     Spain  Female   41   \n",
       "2          3    15619304      Onio          502    France  Female   42   \n",
       "\n",
       "   Tenure    Balance  NumOfProducts  HasCrCard  IsActiveMember  \\\n",
       "0       2       0.00              1          1               1   \n",
       "1       1   83807.86              1          0               1   \n",
       "2       8  159660.80              3          1               0   \n",
       "\n",
       "   EstimatedSalary  Exited  \n",
       "0        101348.88       1  \n",
       "1        112542.58       0  \n",
       "2        113931.57       1  "
      ]
     },
     "execution_count": 23,
     "metadata": {},
     "output_type": "execute_result"
    }
   ],
   "source": [
    "df = pd.read_csv('Churn_Modelling.csv')\n",
    "df.head(3)"
   ]
  },
  {
   "cell_type": "markdown",
   "id": "bf5ebacb",
   "metadata": {
    "heading_collapsed": true,
    "papermill": {
     "duration": 0.081323,
     "end_time": "2022-03-13T16:33:24.328300",
     "exception": false,
     "start_time": "2022-03-13T16:33:24.246977",
     "status": "completed"
    },
    "tags": []
   },
   "source": [
    "## Exploratory Data Analysis and Visualization"
   ]
  },
  {
   "cell_type": "code",
   "execution_count": 24,
   "id": "f50925dd",
   "metadata": {
    "cell_style": "split",
    "execution": {
     "iopub.execute_input": "2022-03-13T16:33:24.508071Z",
     "iopub.status.busy": "2022-03-13T16:33:24.506977Z",
     "iopub.status.idle": "2022-03-13T16:33:24.523645Z",
     "shell.execute_reply": "2022-03-13T16:33:24.524233Z",
     "shell.execute_reply.started": "2022-03-13T16:21:25.634342Z"
    },
    "executionInfo": {
     "elapsed": 854,
     "status": "ok",
     "timestamp": 1610201704635,
     "user": {
      "displayName": "Richard C",
      "photoUrl": "",
      "userId": "08040814671867660929"
     },
     "user_tz": -180
    },
    "hidden": true,
    "id": "9ROCQa9wf2uE",
    "outputId": "40e94921-6a7c-48c6-8c09-2623b6b60fa3",
    "papermill": {
     "duration": 0.111383,
     "end_time": "2022-03-13T16:33:24.524427",
     "exception": false,
     "start_time": "2022-03-13T16:33:24.413044",
     "status": "completed"
    },
    "tags": []
   },
   "outputs": [
    {
     "name": "stdout",
     "output_type": "stream",
     "text": [
      "<class 'pandas.core.frame.DataFrame'>\n",
      "RangeIndex: 10000 entries, 0 to 9999\n",
      "Data columns (total 14 columns):\n",
      " #   Column           Non-Null Count  Dtype  \n",
      "---  ------           --------------  -----  \n",
      " 0   RowNumber        10000 non-null  int64  \n",
      " 1   CustomerId       10000 non-null  int64  \n",
      " 2   Surname          10000 non-null  object \n",
      " 3   CreditScore      10000 non-null  int64  \n",
      " 4   Geography        10000 non-null  object \n",
      " 5   Gender           10000 non-null  object \n",
      " 6   Age              10000 non-null  int64  \n",
      " 7   Tenure           10000 non-null  int64  \n",
      " 8   Balance          10000 non-null  float64\n",
      " 9   NumOfProducts    10000 non-null  int64  \n",
      " 10  HasCrCard        10000 non-null  int64  \n",
      " 11  IsActiveMember   10000 non-null  int64  \n",
      " 12  EstimatedSalary  10000 non-null  float64\n",
      " 13  Exited           10000 non-null  int64  \n",
      "dtypes: float64(2), int64(9), object(3)\n",
      "memory usage: 1.1+ MB\n"
     ]
    }
   ],
   "source": [
    "df.info()"
   ]
  },
  {
   "cell_type": "code",
   "execution_count": 25,
   "id": "08f63bde",
   "metadata": {
    "cell_style": "split",
    "execution": {
     "iopub.execute_input": "2022-03-13T16:33:24.690443Z",
     "iopub.status.busy": "2022-03-13T16:33:24.689394Z",
     "iopub.status.idle": "2022-03-13T16:33:24.696974Z",
     "shell.execute_reply": "2022-03-13T16:33:24.696412Z",
     "shell.execute_reply.started": "2022-03-13T16:21:25.657968Z"
    },
    "executionInfo": {
     "elapsed": 798,
     "status": "ok",
     "timestamp": 1610201657421,
     "user": {
      "displayName": "Richard C",
      "photoUrl": "",
      "userId": "08040814671867660929"
     },
     "user_tz": -180
    },
    "hidden": true,
    "id": "vPyMUnVWfM0o",
    "outputId": "7a294ad3-49d9-4cea-b6a2-9824e2c0ba4a",
    "papermill": {
     "duration": 0.091553,
     "end_time": "2022-03-13T16:33:24.697115",
     "exception": false,
     "start_time": "2022-03-13T16:33:24.605562",
     "status": "completed"
    },
    "tags": []
   },
   "outputs": [
    {
     "data": {
      "text/plain": [
       "(10000, 14)"
      ]
     },
     "execution_count": 25,
     "metadata": {},
     "output_type": "execute_result"
    }
   ],
   "source": [
    "df.shape"
   ]
  },
  {
   "cell_type": "code",
   "execution_count": 26,
   "id": "ab1537f3",
   "metadata": {
    "cell_style": "split",
    "execution": {
     "iopub.execute_input": "2022-03-13T16:33:24.872337Z",
     "iopub.status.busy": "2022-03-13T16:33:24.868648Z",
     "iopub.status.idle": "2022-03-13T16:33:24.875838Z",
     "shell.execute_reply": "2022-03-13T16:33:24.876357Z",
     "shell.execute_reply.started": "2022-03-13T16:21:25.666704Z"
    },
    "hidden": true,
    "papermill": {
     "duration": 0.097397,
     "end_time": "2022-03-13T16:33:24.876526",
     "exception": false,
     "start_time": "2022-03-13T16:33:24.779129",
     "status": "completed"
    },
    "tags": []
   },
   "outputs": [
    {
     "data": {
      "text/plain": [
       "False"
      ]
     },
     "execution_count": 26,
     "metadata": {},
     "output_type": "execute_result"
    }
   ],
   "source": [
    "df.isnull().sum().any()"
   ]
  },
  {
   "cell_type": "code",
   "execution_count": 27,
   "id": "9602bb88",
   "metadata": {
    "cell_style": "split",
    "execution": {
     "iopub.execute_input": "2022-03-13T16:33:25.047507Z",
     "iopub.status.busy": "2022-03-13T16:33:25.046771Z",
     "iopub.status.idle": "2022-03-13T16:33:25.066443Z",
     "shell.execute_reply": "2022-03-13T16:33:25.065889Z",
     "shell.execute_reply.started": "2022-03-13T16:21:25.682932Z"
    },
    "hidden": true,
    "papermill": {
     "duration": 0.107825,
     "end_time": "2022-03-13T16:33:25.066580",
     "exception": false,
     "start_time": "2022-03-13T16:33:24.958755",
     "status": "completed"
    },
    "scrolled": true,
    "tags": []
   },
   "outputs": [
    {
     "data": {
      "text/plain": [
       "0"
      ]
     },
     "execution_count": 27,
     "metadata": {},
     "output_type": "execute_result"
    }
   ],
   "source": [
    "df.duplicated().sum()"
   ]
  },
  {
   "cell_type": "code",
   "execution_count": 28,
   "id": "fe2c4ea8",
   "metadata": {
    "cell_style": "center",
    "execution": {
     "iopub.execute_input": "2022-03-13T16:33:25.241893Z",
     "iopub.status.busy": "2022-03-13T16:33:25.239040Z",
     "iopub.status.idle": "2022-03-13T16:33:25.278083Z",
     "shell.execute_reply": "2022-03-13T16:33:25.277552Z",
     "shell.execute_reply.started": "2022-03-13T16:21:25.700931Z"
    },
    "executionInfo": {
     "elapsed": 967,
     "status": "ok",
     "timestamp": 1610201729941,
     "user": {
      "displayName": "Richard C",
      "photoUrl": "",
      "userId": "08040814671867660929"
     },
     "user_tz": -180
    },
    "hidden": true,
    "id": "mdUkgZD-gCUx",
    "outputId": "cd4f6662-e8c3-4a6f-93d5-26fed83d8a82",
    "papermill": {
     "duration": 0.129919,
     "end_time": "2022-03-13T16:33:25.278268",
     "exception": false,
     "start_time": "2022-03-13T16:33:25.148349",
     "status": "completed"
    },
    "tags": []
   },
   "outputs": [
    {
     "data": {
      "text/html": [
       "<div>\n",
       "<style scoped>\n",
       "    .dataframe tbody tr th:only-of-type {\n",
       "        vertical-align: middle;\n",
       "    }\n",
       "\n",
       "    .dataframe tbody tr th {\n",
       "        vertical-align: top;\n",
       "    }\n",
       "\n",
       "    .dataframe thead th {\n",
       "        text-align: right;\n",
       "    }\n",
       "</style>\n",
       "<table border=\"1\" class=\"dataframe\">\n",
       "  <thead>\n",
       "    <tr style=\"text-align: right;\">\n",
       "      <th></th>\n",
       "      <th>count</th>\n",
       "      <th>mean</th>\n",
       "      <th>std</th>\n",
       "      <th>min</th>\n",
       "      <th>25%</th>\n",
       "      <th>50%</th>\n",
       "      <th>75%</th>\n",
       "      <th>max</th>\n",
       "    </tr>\n",
       "  </thead>\n",
       "  <tbody>\n",
       "    <tr>\n",
       "      <th>RowNumber</th>\n",
       "      <td>10000.0</td>\n",
       "      <td>5.000500e+03</td>\n",
       "      <td>2886.895680</td>\n",
       "      <td>1.00</td>\n",
       "      <td>2500.75</td>\n",
       "      <td>5.000500e+03</td>\n",
       "      <td>7.500250e+03</td>\n",
       "      <td>10000.00</td>\n",
       "    </tr>\n",
       "    <tr>\n",
       "      <th>CustomerId</th>\n",
       "      <td>10000.0</td>\n",
       "      <td>1.569094e+07</td>\n",
       "      <td>71936.186123</td>\n",
       "      <td>15565701.00</td>\n",
       "      <td>15628528.25</td>\n",
       "      <td>1.569074e+07</td>\n",
       "      <td>1.575323e+07</td>\n",
       "      <td>15815690.00</td>\n",
       "    </tr>\n",
       "    <tr>\n",
       "      <th>CreditScore</th>\n",
       "      <td>10000.0</td>\n",
       "      <td>6.505288e+02</td>\n",
       "      <td>96.653299</td>\n",
       "      <td>350.00</td>\n",
       "      <td>584.00</td>\n",
       "      <td>6.520000e+02</td>\n",
       "      <td>7.180000e+02</td>\n",
       "      <td>850.00</td>\n",
       "    </tr>\n",
       "    <tr>\n",
       "      <th>Age</th>\n",
       "      <td>10000.0</td>\n",
       "      <td>3.892180e+01</td>\n",
       "      <td>10.487806</td>\n",
       "      <td>18.00</td>\n",
       "      <td>32.00</td>\n",
       "      <td>3.700000e+01</td>\n",
       "      <td>4.400000e+01</td>\n",
       "      <td>92.00</td>\n",
       "    </tr>\n",
       "    <tr>\n",
       "      <th>Tenure</th>\n",
       "      <td>10000.0</td>\n",
       "      <td>5.012800e+00</td>\n",
       "      <td>2.892174</td>\n",
       "      <td>0.00</td>\n",
       "      <td>3.00</td>\n",
       "      <td>5.000000e+00</td>\n",
       "      <td>7.000000e+00</td>\n",
       "      <td>10.00</td>\n",
       "    </tr>\n",
       "    <tr>\n",
       "      <th>Balance</th>\n",
       "      <td>10000.0</td>\n",
       "      <td>7.648589e+04</td>\n",
       "      <td>62397.405202</td>\n",
       "      <td>0.00</td>\n",
       "      <td>0.00</td>\n",
       "      <td>9.719854e+04</td>\n",
       "      <td>1.276442e+05</td>\n",
       "      <td>250898.09</td>\n",
       "    </tr>\n",
       "    <tr>\n",
       "      <th>NumOfProducts</th>\n",
       "      <td>10000.0</td>\n",
       "      <td>1.530200e+00</td>\n",
       "      <td>0.581654</td>\n",
       "      <td>1.00</td>\n",
       "      <td>1.00</td>\n",
       "      <td>1.000000e+00</td>\n",
       "      <td>2.000000e+00</td>\n",
       "      <td>4.00</td>\n",
       "    </tr>\n",
       "    <tr>\n",
       "      <th>HasCrCard</th>\n",
       "      <td>10000.0</td>\n",
       "      <td>7.055000e-01</td>\n",
       "      <td>0.455840</td>\n",
       "      <td>0.00</td>\n",
       "      <td>0.00</td>\n",
       "      <td>1.000000e+00</td>\n",
       "      <td>1.000000e+00</td>\n",
       "      <td>1.00</td>\n",
       "    </tr>\n",
       "    <tr>\n",
       "      <th>IsActiveMember</th>\n",
       "      <td>10000.0</td>\n",
       "      <td>5.151000e-01</td>\n",
       "      <td>0.499797</td>\n",
       "      <td>0.00</td>\n",
       "      <td>0.00</td>\n",
       "      <td>1.000000e+00</td>\n",
       "      <td>1.000000e+00</td>\n",
       "      <td>1.00</td>\n",
       "    </tr>\n",
       "    <tr>\n",
       "      <th>EstimatedSalary</th>\n",
       "      <td>10000.0</td>\n",
       "      <td>1.000902e+05</td>\n",
       "      <td>57510.492818</td>\n",
       "      <td>11.58</td>\n",
       "      <td>51002.11</td>\n",
       "      <td>1.001939e+05</td>\n",
       "      <td>1.493882e+05</td>\n",
       "      <td>199992.48</td>\n",
       "    </tr>\n",
       "    <tr>\n",
       "      <th>Exited</th>\n",
       "      <td>10000.0</td>\n",
       "      <td>2.037000e-01</td>\n",
       "      <td>0.402769</td>\n",
       "      <td>0.00</td>\n",
       "      <td>0.00</td>\n",
       "      <td>0.000000e+00</td>\n",
       "      <td>0.000000e+00</td>\n",
       "      <td>1.00</td>\n",
       "    </tr>\n",
       "  </tbody>\n",
       "</table>\n",
       "</div>"
      ],
      "text/plain": [
       "                   count          mean           std          min  \\\n",
       "RowNumber        10000.0  5.000500e+03   2886.895680         1.00   \n",
       "CustomerId       10000.0  1.569094e+07  71936.186123  15565701.00   \n",
       "CreditScore      10000.0  6.505288e+02     96.653299       350.00   \n",
       "Age              10000.0  3.892180e+01     10.487806        18.00   \n",
       "Tenure           10000.0  5.012800e+00      2.892174         0.00   \n",
       "Balance          10000.0  7.648589e+04  62397.405202         0.00   \n",
       "NumOfProducts    10000.0  1.530200e+00      0.581654         1.00   \n",
       "HasCrCard        10000.0  7.055000e-01      0.455840         0.00   \n",
       "IsActiveMember   10000.0  5.151000e-01      0.499797         0.00   \n",
       "EstimatedSalary  10000.0  1.000902e+05  57510.492818        11.58   \n",
       "Exited           10000.0  2.037000e-01      0.402769         0.00   \n",
       "\n",
       "                         25%           50%           75%          max  \n",
       "RowNumber            2500.75  5.000500e+03  7.500250e+03     10000.00  \n",
       "CustomerId       15628528.25  1.569074e+07  1.575323e+07  15815690.00  \n",
       "CreditScore           584.00  6.520000e+02  7.180000e+02       850.00  \n",
       "Age                    32.00  3.700000e+01  4.400000e+01        92.00  \n",
       "Tenure                  3.00  5.000000e+00  7.000000e+00        10.00  \n",
       "Balance                 0.00  9.719854e+04  1.276442e+05    250898.09  \n",
       "NumOfProducts           1.00  1.000000e+00  2.000000e+00         4.00  \n",
       "HasCrCard               0.00  1.000000e+00  1.000000e+00         1.00  \n",
       "IsActiveMember          0.00  1.000000e+00  1.000000e+00         1.00  \n",
       "EstimatedSalary     51002.11  1.001939e+05  1.493882e+05    199992.48  \n",
       "Exited                  0.00  0.000000e+00  0.000000e+00         1.00  "
      ]
     },
     "execution_count": 28,
     "metadata": {},
     "output_type": "execute_result"
    }
   ],
   "source": [
    "df.describe().T\n",
    "\n"
   ]
  },
  {
   "cell_type": "code",
   "execution_count": 29,
   "id": "9424f2ef",
   "metadata": {
    "execution": {
     "iopub.execute_input": "2022-03-13T16:33:25.462621Z",
     "iopub.status.busy": "2022-03-13T16:33:25.461542Z",
     "iopub.status.idle": "2022-03-13T16:33:25.464017Z",
     "shell.execute_reply": "2022-03-13T16:33:25.464666Z",
     "shell.execute_reply.started": "2022-03-13T16:21:25.735022Z"
    },
    "hidden": true,
    "papermill": {
     "duration": 0.102939,
     "end_time": "2022-03-13T16:33:25.464891",
     "exception": false,
     "start_time": "2022-03-13T16:33:25.361952",
     "status": "completed"
    },
    "tags": []
   },
   "outputs": [],
   "source": [
    "df.drop(['CustomerId', 'Surname'], axis=1, inplace=True)"
   ]
  },
  {
   "cell_type": "code",
   "execution_count": 30,
   "id": "16c0d342",
   "metadata": {
    "cell_style": "split",
    "execution": {
     "iopub.execute_input": "2022-03-13T16:33:25.655680Z",
     "iopub.status.busy": "2022-03-13T16:33:25.654629Z",
     "iopub.status.idle": "2022-03-13T16:33:25.924277Z",
     "shell.execute_reply": "2022-03-13T16:33:25.923683Z",
     "shell.execute_reply.started": "2022-03-13T16:21:25.741994Z"
    },
    "executionInfo": {
     "elapsed": 1052,
     "status": "ok",
     "timestamp": 1610201940310,
     "user": {
      "displayName": "Richard C",
      "photoUrl": "",
      "userId": "08040814671867660929"
     },
     "user_tz": -180
    },
    "hidden": true,
    "id": "_7vHUi5Hgldj",
    "outputId": "0018aaa8-d479-40c3-f973-161c63e7a77b",
    "papermill": {
     "duration": 0.363131,
     "end_time": "2022-03-13T16:33:25.924440",
     "exception": false,
     "start_time": "2022-03-13T16:33:25.561309",
     "status": "completed"
    },
    "tags": []
   },
   "outputs": [
    {
     "name": "stdout",
     "output_type": "stream",
     "text": [
      "0    7963\n",
      "1    2037\n",
      "Name: Exited, dtype: int64\n"
     ]
    },
    {
     "data": {
      "image/png": "[encoded data removed]",
      "text/plain": [
       "<Figure size 640x480 with 1 Axes>"
      ]
     },
     "metadata": {},
     "output_type": "display_data"
    }
   ],
   "source": [
    "print(df.Exited.value_counts())\n",
    "sns.countplot(df[\"Exited\"]);"
   ]
  },
  {
   "cell_type": "code",
   "execution_count": 31,
   "id": "d2b7aad9",
   "metadata": {
    "cell_style": "split",
    "execution": {
     "iopub.execute_input": "2022-03-13T16:33:26.101477Z",
     "iopub.status.busy": "2022-03-13T16:33:26.100676Z",
     "iopub.status.idle": "2022-03-13T16:33:28.863449Z",
     "shell.execute_reply": "2022-03-13T16:33:28.864284Z",
     "shell.execute_reply.started": "2022-03-13T16:21:25.956328Z"
    },
    "hidden": true,
    "papermill": {
     "duration": 2.853495,
     "end_time": "2022-03-13T16:33:28.864557",
     "exception": false,
     "start_time": "2022-03-13T16:33:26.011062",
     "status": "completed"
    },
    "tags": []
   },
   "outputs": [
    {
     "data": {
      "image/png": "[encoded data removed]",
      "text/plain": [
       "<Figure size 1500x1200 with 12 Axes>"
      ]
     },
     "metadata": {},
     "output_type": "display_data"
    }
   ],
   "source": [
    "df.hist(figsize=(15, 12), bins=15);\n"
   ]
  },
  {
   "cell_type": "code",
   "execution_count": 32,
   "id": "8935dc51",
   "metadata": {
    "execution": {
     "iopub.execute_input": "2022-03-13T16:33:29.072637Z",
     "iopub.status.busy": "2022-03-13T16:33:29.068784Z",
     "iopub.status.idle": "2022-03-13T16:33:30.076333Z",
     "shell.execute_reply": "2022-03-13T16:33:30.077406Z",
     "shell.execute_reply.started": "2022-03-13T16:21:27.722538Z"
    },
    "hidden": true,
    "papermill": {
     "duration": 1.120286,
     "end_time": "2022-03-13T16:33:30.077627",
     "exception": false,
     "start_time": "2022-03-13T16:33:28.957341",
     "status": "completed"
    },
    "tags": []
   },
   "outputs": [
    {
     "data": {
      "image/png": "[encoded data removed]",
      "text/plain": [
       "<Figure size 1600x1200 with 4 Axes>"
      ]
     },
     "metadata": {},
     "output_type": "display_data"
    }
   ],
   "source": [
    "cat_list = [\"Gender\", \"HasCrCard\", \"IsActiveMember\", \"Geography\"]\n",
    "index = 0\n",
    "plt.figure(figsize=(16, 12))\n",
    "for i in cat_list:\n",
    "    index += 1\n",
    "    plt.subplot(2, 2, index)\n",
    "    sns.countplot(data=df, x=i, hue=\"Exited\")"
   ]
  },
  {
   "cell_type": "code",
   "execution_count": 33,
   "id": "fbae8ffc",
   "metadata": {
    "cell_style": "split",
    "execution": {
     "iopub.execute_input": "2022-03-13T16:33:30.264385Z",
     "iopub.status.busy": "2022-03-13T16:33:30.263719Z",
     "iopub.status.idle": "2022-03-13T16:33:33.004666Z",
     "shell.execute_reply": "2022-03-13T16:33:33.005317Z",
     "shell.execute_reply.started": "2022-03-13T16:21:28.591903Z"
    },
    "hidden": true,
    "papermill": {
     "duration": 2.837944,
     "end_time": "2022-03-13T16:33:33.005521",
     "exception": false,
     "start_time": "2022-03-13T16:33:30.167577",
     "status": "completed"
    },
    "tags": []
   },
   "outputs": [
    {
     "data": {
      "image/png": "[encoded data removed]",
      "text/plain": [
       "<Figure size 2000x700 with 1 Axes>"
      ]
     },
     "metadata": {},
     "output_type": "display_data"
    }
   ],
   "source": [
    "plt.figure(figsize=(20, 7))\n",
    "sns.countplot(x='Age', hue='Exited', data=df)\n",
    "plt.show()"
   ]
  },
  {
   "cell_type": "code",
   "execution_count": 34,
   "id": "565d484c",
   "metadata": {
    "cell_style": "center",
    "execution": {
     "iopub.execute_input": "2022-03-13T16:33:33.194457Z",
     "iopub.status.busy": "2022-03-13T16:33:33.193074Z",
     "iopub.status.idle": "2022-03-13T16:33:34.158751Z",
     "shell.execute_reply": "2022-03-13T16:33:34.159352Z",
     "shell.execute_reply.started": "2022-03-13T16:21:30.456913Z"
    },
    "executionInfo": {
     "elapsed": 5978,
     "status": "ok",
     "timestamp": 1610202268770,
     "user": {
      "displayName": "Richard C",
      "photoUrl": "",
      "userId": "08040814671867660929"
     },
     "user_tz": -180
    },
    "hidden": true,
    "id": "fNDK3HprhSU3",
    "outputId": "98fe8eba-dc36-4cc7-96ad-ff61182d12a2",
    "papermill": {
     "duration": 1.063056,
     "end_time": "2022-03-13T16:33:34.159644",
     "exception": false,
     "start_time": "2022-03-13T16:33:33.096588",
     "status": "completed"
    },
    "tags": []
   },
   "outputs": [
    {
     "data": {
      "image/png": "[encoded data removed]",
      "text/plain": [
       "<Figure size 1200x500 with 2 Axes>"
      ]
     },
     "metadata": {},
     "output_type": "display_data"
    }
   ],
   "source": [
    "plt.figure(figsize=(12, 5))\n",
    "sns.heatmap(df.corr(numeric_only=True), \n",
    "            vmin=-1,\n",
    "            vmax= 1,\n",
    "            cmap= 'YlOrRd', \n",
    "            linewidths=.12, \n",
    "            linecolor='white',\n",
    "            fmt='.2g',\n",
    "            square=True);"
   ]
  },
  {
   "cell_type": "code",
   "execution_count": 35,
   "id": "e82f32db",
   "metadata": {
    "cell_style": "center",
    "execution": {
     "iopub.execute_input": "2022-03-13T16:33:34.352846Z",
     "iopub.status.busy": "2022-03-13T16:33:34.351900Z",
     "iopub.status.idle": "2022-03-13T16:33:34.671165Z",
     "shell.execute_reply": "2022-03-13T16:33:34.670619Z",
     "shell.execute_reply.started": "2022-03-13T16:21:31.186653Z"
    },
    "executionInfo": {
     "elapsed": 1405,
     "status": "ok",
     "timestamp": 1610203065835,
     "user": {
      "displayName": "Richard C",
      "photoUrl": "",
      "userId": "08040814671867660929"
     },
     "user_tz": -180
    },
    "hidden": true,
    "id": "IasR3c8ajeC0",
    "outputId": "4742bedb-e6bc-4967-f1cd-c36f7610f33e",
    "papermill": {
     "duration": 0.417058,
     "end_time": "2022-03-13T16:33:34.671350",
     "exception": false,
     "start_time": "2022-03-13T16:33:34.254292",
     "status": "completed"
    },
    "tags": []
   },
   "outputs": [
    {
     "data": {
      "image/png": "[encoded data removed]",
      "text/plain": [
       "<Figure size 800x500 with 1 Axes>"
      ]
     },
     "metadata": {},
     "output_type": "display_data"
    }
   ],
   "source": [
    "\n",
    "# Encode categorical variables to numeric values\n",
    "label_encoder = LabelEncoder()\n",
    "df['Geography'] = label_encoder.fit_transform(df['Geography'])\n",
    "df['Gender'] = label_encoder.fit_transform(df['Gender'])\n",
    "\n",
    "# Calculate correlations with 'Exited' after converting categorical variables to numeric\n",
    "correlation_data = df.corr()['Exited'][:-1].sort_values()\n",
    "\n",
    "plt.figure(figsize=(8, 5))\n",
    "correlation_data.plot(kind='barh', colormap='viridis')\n",
    "plt.xlabel('Correlation')\n",
    "plt.ylabel('Features')\n",
    "plt.title('Correlated features with `Exited`')\n",
    "plt.show()\n"
   ]
  },
  {
   "cell_type": "code",
   "execution_count": 36,
   "id": "a54d8543",
   "metadata": {
    "execution": {
     "iopub.execute_input": "2022-03-13T16:33:34.867934Z",
     "iopub.status.busy": "2022-03-13T16:33:34.867279Z",
     "iopub.status.idle": "2022-03-13T16:33:34.885705Z",
     "shell.execute_reply": "2022-03-13T16:33:34.886358Z",
     "shell.execute_reply.started": "2022-03-13T16:21:31.571830Z"
    },
    "hidden": true,
    "papermill": {
     "duration": 0.121124,
     "end_time": "2022-03-13T16:33:34.886514",
     "exception": false,
     "start_time": "2022-03-13T16:33:34.765390",
     "status": "completed"
    },
    "tags": []
   },
   "outputs": [
    {
     "data": {
      "text/html": [
       "<div>\n",
       "<style scoped>\n",
       "    .dataframe tbody tr th:only-of-type {\n",
       "        vertical-align: middle;\n",
       "    }\n",
       "\n",
       "    .dataframe tbody tr th {\n",
       "        vertical-align: top;\n",
       "    }\n",
       "\n",
       "    .dataframe thead th {\n",
       "        text-align: right;\n",
       "    }\n",
       "</style>\n",
       "<table border=\"1\" class=\"dataframe\">\n",
       "  <thead>\n",
       "    <tr style=\"text-align: right;\">\n",
       "      <th></th>\n",
       "      <th>RowNumber</th>\n",
       "      <th>CreditScore</th>\n",
       "      <th>Geography</th>\n",
       "      <th>Gender</th>\n",
       "      <th>Age</th>\n",
       "      <th>Tenure</th>\n",
       "      <th>Balance</th>\n",
       "      <th>NumOfProducts</th>\n",
       "      <th>HasCrCard</th>\n",
       "      <th>IsActiveMember</th>\n",
       "      <th>EstimatedSalary</th>\n",
       "      <th>Exited</th>\n",
       "    </tr>\n",
       "  </thead>\n",
       "  <tbody>\n",
       "    <tr>\n",
       "      <th>0</th>\n",
       "      <td>1</td>\n",
       "      <td>619</td>\n",
       "      <td>0</td>\n",
       "      <td>0</td>\n",
       "      <td>42</td>\n",
       "      <td>2</td>\n",
       "      <td>0.00</td>\n",
       "      <td>1</td>\n",
       "      <td>1</td>\n",
       "      <td>1</td>\n",
       "      <td>101348.88</td>\n",
       "      <td>1</td>\n",
       "    </tr>\n",
       "    <tr>\n",
       "      <th>1</th>\n",
       "      <td>2</td>\n",
       "      <td>608</td>\n",
       "      <td>2</td>\n",
       "      <td>0</td>\n",
       "      <td>41</td>\n",
       "      <td>1</td>\n",
       "      <td>83807.86</td>\n",
       "      <td>1</td>\n",
       "      <td>0</td>\n",
       "      <td>1</td>\n",
       "      <td>112542.58</td>\n",
       "      <td>0</td>\n",
       "    </tr>\n",
       "    <tr>\n",
       "      <th>2</th>\n",
       "      <td>3</td>\n",
       "      <td>502</td>\n",
       "      <td>0</td>\n",
       "      <td>0</td>\n",
       "      <td>42</td>\n",
       "      <td>8</td>\n",
       "      <td>159660.80</td>\n",
       "      <td>3</td>\n",
       "      <td>1</td>\n",
       "      <td>0</td>\n",
       "      <td>113931.57</td>\n",
       "      <td>1</td>\n",
       "    </tr>\n",
       "    <tr>\n",
       "      <th>3</th>\n",
       "      <td>4</td>\n",
       "      <td>699</td>\n",
       "      <td>0</td>\n",
       "      <td>0</td>\n",
       "      <td>39</td>\n",
       "      <td>1</td>\n",
       "      <td>0.00</td>\n",
       "      <td>2</td>\n",
       "      <td>0</td>\n",
       "      <td>0</td>\n",
       "      <td>93826.63</td>\n",
       "      <td>0</td>\n",
       "    </tr>\n",
       "    <tr>\n",
       "      <th>4</th>\n",
       "      <td>5</td>\n",
       "      <td>850</td>\n",
       "      <td>2</td>\n",
       "      <td>0</td>\n",
       "      <td>43</td>\n",
       "      <td>2</td>\n",
       "      <td>125510.82</td>\n",
       "      <td>1</td>\n",
       "      <td>1</td>\n",
       "      <td>1</td>\n",
       "      <td>79084.10</td>\n",
       "      <td>0</td>\n",
       "    </tr>\n",
       "  </tbody>\n",
       "</table>\n",
       "</div>"
      ],
      "text/plain": [
       "   RowNumber  CreditScore  Geography  Gender  Age  Tenure    Balance  \\\n",
       "0          1          619          0       0   42       2       0.00   \n",
       "1          2          608          2       0   41       1   83807.86   \n",
       "2          3          502          0       0   42       8  159660.80   \n",
       "3          4          699          0       0   39       1       0.00   \n",
       "4          5          850          2       0   43       2  125510.82   \n",
       "\n",
       "   NumOfProducts  HasCrCard  IsActiveMember  EstimatedSalary  Exited  \n",
       "0              1          1               1        101348.88       1  \n",
       "1              1          0               1        112542.58       0  \n",
       "2              3          1               0        113931.57       1  \n",
       "3              2          0               0         93826.63       0  \n",
       "4              1          1               1         79084.10       0  "
      ]
     },
     "execution_count": 36,
     "metadata": {},
     "output_type": "execute_result"
    }
   ],
   "source": [
    "df = pd.get_dummies(df, drop_first=True)\n",
    "df.head()"
   ]
  },
  {
   "cell_type": "markdown",
   "id": "9fba6794",
   "metadata": {
    "heading_collapsed": true,
    "papermill": {
     "duration": 0.094145,
     "end_time": "2022-03-13T16:33:35.076316",
     "exception": false,
     "start_time": "2022-03-13T16:33:34.982171",
     "status": "completed"
    },
    "tags": []
   },
   "source": [
    "## Preprocessing of Data"
   ]
  },
  {
   "cell_type": "code",
   "execution_count": 37,
   "id": "dddc44cc",
   "metadata": {
    "execution": {
     "iopub.execute_input": "2022-03-13T16:33:35.272871Z",
     "iopub.status.busy": "2022-03-13T16:33:35.270621Z",
     "iopub.status.idle": "2022-03-13T16:33:35.273647Z",
     "shell.execute_reply": "2022-03-13T16:33:35.274153Z",
     "shell.execute_reply.started": "2022-03-13T16:21:31.603359Z"
    },
    "executionInfo": {
     "elapsed": 764,
     "status": "ok",
     "timestamp": 1610203310512,
     "user": {
      "displayName": "Richard C",
      "photoUrl": "",
      "userId": "08040814671867660929"
     },
     "user_tz": -180
    },
    "hidden": true,
    "id": "DjY-ZSPWka7D",
    "papermill": {
     "duration": 0.104605,
     "end_time": "2022-03-13T16:33:35.274363",
     "exception": false,
     "start_time": "2022-03-13T16:33:35.169758",
     "status": "completed"
    },
    "tags": []
   },
   "outputs": [],
   "source": [
    "from sklearn.model_selection import train_test_split\n",
    "from sklearn.preprocessing import MinMaxScaler"
   ]
  },
  {
   "cell_type": "code",
   "execution_count": 38,
   "id": "e5e7c2be",
   "metadata": {
    "cell_style": "center",
    "execution": {
     "iopub.execute_input": "2022-03-13T16:33:35.469952Z",
     "iopub.status.busy": "2022-03-13T16:33:35.468859Z",
     "iopub.status.idle": "2022-03-13T16:33:35.483206Z",
     "shell.execute_reply": "2022-03-13T16:33:35.483780Z",
     "shell.execute_reply.started": "2022-03-13T16:21:31.609288Z"
    },
    "executionInfo": {
     "elapsed": 1126,
     "status": "ok",
     "timestamp": 1610203246314,
     "user": {
      "displayName": "Richard C",
      "photoUrl": "",
      "userId": "08040814671867660929"
     },
     "user_tz": -180
    },
    "hidden": true,
    "id": "kjyTH753lq7M",
    "papermill": {
     "duration": 0.114044,
     "end_time": "2022-03-13T16:33:35.483944",
     "exception": false,
     "start_time": "2022-03-13T16:33:35.369900",
     "status": "completed"
    },
    "tags": []
   },
   "outputs": [],
   "source": [
    "X = df.drop('Exited', axis=1)\n",
    "y = df['Exited'].values\n",
    "seed = 42\n",
    "X_train, X_test, y_train, y_test = train_test_split(X,\n",
    "                                                    y,\n",
    "                                                    stratify=y,\n",
    "                                                    test_size=0.1,\n",
    "                                                    random_state=seed)\n"
   ]
  },
  {
   "cell_type": "code",
   "execution_count": 39,
   "id": "2a53d542",
   "metadata": {
    "cell_style": "split",
    "execution": {
     "iopub.execute_input": "2022-03-13T16:33:35.683341Z",
     "iopub.status.busy": "2022-03-13T16:33:35.682185Z",
     "iopub.status.idle": "2022-03-13T16:33:35.684521Z",
     "shell.execute_reply": "2022-03-13T16:33:35.685312Z",
     "shell.execute_reply.started": "2022-03-13T16:21:31.629324Z"
    },
    "hidden": true,
    "papermill": {
     "duration": 0.103984,
     "end_time": "2022-03-13T16:33:35.685507",
     "exception": false,
     "start_time": "2022-03-13T16:33:35.581523",
     "status": "completed"
    },
    "tags": []
   },
   "outputs": [],
   "source": [
    "scaler = MinMaxScaler()\n"
   ]
  },
  {
   "cell_type": "code",
   "execution_count": 40,
   "id": "34957b29",
   "metadata": {
    "cell_style": "split",
    "execution": {
     "iopub.execute_input": "2022-03-13T16:33:35.884592Z",
     "iopub.status.busy": "2022-03-13T16:33:35.883824Z",
     "iopub.status.idle": "2022-03-13T16:33:35.894062Z",
     "shell.execute_reply": "2022-03-13T16:33:35.893369Z",
     "shell.execute_reply.started": "2022-03-13T16:21:31.635521Z"
    },
    "executionInfo": {
     "elapsed": 696,
     "status": "ok",
     "timestamp": 1610203508023,
     "user": {
      "displayName": "Richard C",
      "photoUrl": "",
      "userId": "08040814671867660929"
     },
     "user_tz": -180
    },
    "hidden": true,
    "id": "Fgy3D9SBmWcq",
    "papermill": {
     "duration": 0.112805,
     "end_time": "2022-03-13T16:33:35.894270",
     "exception": false,
     "start_time": "2022-03-13T16:33:35.781465",
     "status": "completed"
    },
    "tags": []
   },
   "outputs": [],
   "source": [
    "X_train = scaler.fit_transform(X_train)\n",
    "X_test = scaler.transform(X_test)"
   ]
  },
  {
   "cell_type": "markdown",
   "id": "8d648baa",
   "metadata": {
    "id": "Ha9hDt_AoGaE",
    "papermill": {
     "duration": 0.095539,
     "end_time": "2022-03-13T16:33:36.087008",
     "exception": false,
     "start_time": "2022-03-13T16:33:35.991469",
     "status": "completed"
    },
    "tags": []
   },
   "source": [
    "## Modelling & Model Performance"
   ]
  },
  {
   "cell_type": "markdown",
   "id": "25b7159e",
   "metadata": {
    "heading_collapsed": true,
    "papermill": {
     "duration": 0.094138,
     "end_time": "2022-03-13T16:33:36.275564",
     "exception": false,
     "start_time": "2022-03-13T16:33:36.181426",
     "status": "completed"
    },
    "tags": []
   },
   "source": [
    "### without class_weigth"
   ]
  },
  {
   "cell_type": "code",
   "execution_count": 41,
   "id": "543725a6",
   "metadata": {
    "execution": {
     "iopub.execute_input": "2022-03-13T16:33:36.472812Z",
     "iopub.status.busy": "2022-03-13T16:33:36.471898Z",
     "iopub.status.idle": "2022-03-13T16:33:36.475552Z",
     "shell.execute_reply": "2022-03-13T16:33:36.476061Z",
     "shell.execute_reply.started": "2022-03-13T16:21:31.651599Z"
    },
    "papermill": {
     "duration": 0.107901,
     "end_time": "2022-03-13T16:33:36.476257",
     "exception": false,
     "start_time": "2022-03-13T16:33:36.368356",
     "status": "completed"
    },
    "tags": []
   },
   "outputs": [
    {
     "data": {
      "text/plain": [
       "(9000, 11)"
      ]
     },
     "execution_count": 41,
     "metadata": {},
     "output_type": "execute_result"
    }
   ],
   "source": [
    "X_train.shape"
   ]
  },
  {
   "cell_type": "code",
   "execution_count": 42,
   "id": "889c1bc7",
   "metadata": {
    "cell_style": "split",
    "execution": {
     "iopub.execute_input": "2022-03-13T16:33:36.836172Z",
     "iopub.status.busy": "2022-03-13T16:33:36.835150Z",
     "iopub.status.idle": "2022-03-13T16:33:39.827581Z",
     "shell.execute_reply": "2022-03-13T16:33:39.828181Z",
     "shell.execute_reply.started": "2022-03-13T16:24:32.479661Z"
    },
    "hidden": true,
    "papermill": {
     "duration": 3.164967,
     "end_time": "2022-03-13T16:33:39.828389",
     "exception": false,
     "start_time": "2022-03-13T16:33:36.663422",
     "status": "completed"
    },
    "tags": []
   },
   "outputs": [
    {
     "name": "stderr",
     "output_type": "stream",
     "text": [
      "WARNING:absl:At this time, the v2.11+ optimizer `tf.keras.optimizers.Adam` runs slowly on M1/M2 Macs, please use the legacy Keras optimizer instead, located at `tf.keras.optimizers.legacy.Adam`.\n"
     ]
    }
   ],
   "source": [
    "import tensorflow as tf\n",
    "from tensorflow.keras.models import Sequential\n",
    "from tensorflow.keras.layers import Dense\n",
    "\n",
    "# Initialize the Sequential model\n",
    "model = Sequential()\n",
    "\n",
    "# Set the random seed (if 'seed' is defined)\n",
    "seed = 42  # You should define 'seed' if it's not already defined\n",
    "\n",
    "tf.random.set_seed(seed)\n",
    "\n",
    "# Add layers to the model\n",
    "model.add(Dense(16, activation=\"relu\"))\n",
    "model.add(Dense(8, activation=\"relu\"))\n",
    "model.add(Dense(1, activation=\"sigmoid\"))\n",
    "\n",
    "# Define the optimizer\n",
    "opt = tf.keras.optimizers.Adam(learning_rate=0.001)\n",
    "\n",
    "# Compile the model\n",
    "model.compile(optimizer=opt, \n",
    "              loss=\"binary_crossentropy\",\n",
    "              metrics=[\"Recall\"])\n"
   ]
  },
  {
   "cell_type": "code",
   "execution_count": 43,
   "id": "3fab7fab",
   "metadata": {
    "cell_style": "split",
    "execution": {
     "iopub.execute_input": "2022-03-13T16:33:40.027439Z",
     "iopub.status.busy": "2022-03-13T16:33:40.026406Z",
     "iopub.status.idle": "2022-03-13T16:33:40.032306Z",
     "shell.execute_reply": "2022-03-13T16:33:40.031687Z",
     "shell.execute_reply.started": "2022-03-13T16:24:38.959677Z"
    },
    "hidden": true,
    "papermill": {
     "duration": 0.106903,
     "end_time": "2022-03-13T16:33:40.032448",
     "exception": false,
     "start_time": "2022-03-13T16:33:39.925545",
     "status": "completed"
    },
    "tags": []
   },
   "outputs": [],
   "source": [
    "from tensorflow.keras.callbacks import EarlyStopping\n",
    "\n",
    "# Define the EarlyStopping callback\n",
    "early_stop = EarlyStopping(\n",
    "    monitor=\"val_loss\",  # Monitor validation loss\n",
    "    mode=\"auto\",         # Automatically determine whether to minimize or maximize the monitored metric\n",
    "    verbose=1,           # Print messages when early stopping is triggered\n",
    "    patience=15          # Number of epochs with no improvement before stopping\n",
    ")\n",
    "#The patience is often set somewhere between 10 and 100 (10 or 20 is more common), \n",
    "#but it really depends on your dataset and network."
   ]
  },
  {
   "cell_type": "code",
   "execution_count": 44,
   "id": "a0cd9726",
   "metadata": {
    "cell_style": "center",
    "execution": {
     "iopub.execute_input": "2022-03-13T16:33:40.234604Z",
     "iopub.status.busy": "2022-03-13T16:33:40.233543Z",
     "iopub.status.idle": "2022-03-13T16:34:22.893762Z",
     "shell.execute_reply": "2022-03-13T16:34:22.894379Z",
     "shell.execute_reply.started": "2022-03-13T16:24:40.410645Z"
    },
    "hidden": true,
    "papermill": {
     "duration": 42.765376,
     "end_time": "2022-03-13T16:34:22.894588",
     "exception": false,
     "start_time": "2022-03-13T16:33:40.129212",
     "status": "completed"
    },
    "scrolled": true,
    "tags": []
   },
   "outputs": [
    {
     "name": "stdout",
     "output_type": "stream",
     "text": [
      "Epoch 1/200\n"
     ]
    },
    {
     "name": "stderr",
     "output_type": "stream",
     "text": [
      "2023-10-30 22:50:54.528454: I tensorflow/core/grappler/optimizers/custom_graph_optimizer_registry.cc:117] Plugin optimizer for device_type GPU is enabled.\n",
      "2023-10-30 22:50:54.557344: E tensorflow/core/grappler/optimizers/meta_optimizer.cc:961] model_pruner failed: INVALID_ARGUMENT: Graph does not contain terminal node Adam/AssignAddVariableOp.\n"
     ]
    },
    {
     "name": "stdout",
     "output_type": "stream",
     "text": [
      "64/64 [==============================] - 3s 14ms/step - loss: 0.5829 - recall: 0.1005 - val_loss: 0.5149 - val_recall: 0.0000e+00\n",
      "Epoch 2/200\n",
      "64/64 [==============================] - 0s 6ms/step - loss: 0.5140 - recall: 0.0000e+00 - val_loss: 0.5019 - val_recall: 0.0000e+00\n",
      "Epoch 3/200\n",
      "64/64 [==============================] - 0s 6ms/step - loss: 0.5051 - recall: 0.0000e+00 - val_loss: 0.4917 - val_recall: 0.0000e+00\n",
      "Epoch 4/200\n",
      "64/64 [==============================] - 0s 6ms/step - loss: 0.4934 - recall: 0.0000e+00 - val_loss: 0.4776 - val_recall: 0.0000e+00\n",
      "Epoch 5/200\n",
      "64/64 [==============================] - 0s 6ms/step - loss: 0.4828 - recall: 6.0533e-04 - val_loss: 0.4668 - val_recall: 0.0000e+00\n",
      "Epoch 6/200\n",
      "64/64 [==============================] - 0s 6ms/step - loss: 0.4741 - recall: 0.0030 - val_loss: 0.4583 - val_recall: 0.0166\n",
      "Epoch 7/200\n",
      "64/64 [==============================] - 0s 6ms/step - loss: 0.4675 - recall: 0.0266 - val_loss: 0.4503 - val_recall: 0.0552\n",
      "Epoch 8/200\n",
      "64/64 [==============================] - 0s 6ms/step - loss: 0.4615 - recall: 0.0466 - val_loss: 0.4429 - val_recall: 0.0829\n",
      "Epoch 9/200\n",
      "64/64 [==============================] - 0s 6ms/step - loss: 0.4566 - recall: 0.0593 - val_loss: 0.4386 - val_recall: 0.1436\n",
      "Epoch 10/200\n",
      "64/64 [==============================] - 0s 6ms/step - loss: 0.4524 - recall: 0.0841 - val_loss: 0.4323 - val_recall: 0.1547\n",
      "Epoch 11/200\n",
      "64/64 [==============================] - 0s 6ms/step - loss: 0.4496 - recall: 0.1023 - val_loss: 0.4281 - val_recall: 0.1713\n",
      "Epoch 12/200\n",
      "64/64 [==============================] - 0s 6ms/step - loss: 0.4467 - recall: 0.1150 - val_loss: 0.4251 - val_recall: 0.1823\n",
      "Epoch 13/200\n",
      "64/64 [==============================] - 0s 6ms/step - loss: 0.4444 - recall: 0.1205 - val_loss: 0.4265 - val_recall: 0.2762\n",
      "Epoch 14/200\n",
      "64/64 [==============================] - 0s 6ms/step - loss: 0.4434 - recall: 0.1429 - val_loss: 0.4204 - val_recall: 0.1934\n",
      "Epoch 15/200\n",
      "64/64 [==============================] - 0s 6ms/step - loss: 0.4417 - recall: 0.1513 - val_loss: 0.4194 - val_recall: 0.2320\n",
      "Epoch 16/200\n",
      "64/64 [==============================] - 0s 6ms/step - loss: 0.4406 - recall: 0.1568 - val_loss: 0.4185 - val_recall: 0.2486\n",
      "Epoch 17/200\n",
      "64/64 [==============================] - 0s 6ms/step - loss: 0.4398 - recall: 0.1665 - val_loss: 0.4173 - val_recall: 0.2099\n",
      "Epoch 18/200\n",
      "64/64 [==============================] - 0s 6ms/step - loss: 0.4392 - recall: 0.1531 - val_loss: 0.4167 - val_recall: 0.2210\n",
      "Epoch 19/200\n",
      "64/64 [==============================] - 0s 6ms/step - loss: 0.4389 - recall: 0.1586 - val_loss: 0.4174 - val_recall: 0.2818\n",
      "Epoch 20/200\n",
      "64/64 [==============================] - 0s 6ms/step - loss: 0.4383 - recall: 0.1725 - val_loss: 0.4160 - val_recall: 0.2265\n",
      "Epoch 21/200\n",
      "64/64 [==============================] - 0s 6ms/step - loss: 0.4383 - recall: 0.1604 - val_loss: 0.4167 - val_recall: 0.2818\n",
      "Epoch 22/200\n",
      "64/64 [==============================] - 0s 6ms/step - loss: 0.4379 - recall: 0.1683 - val_loss: 0.4161 - val_recall: 0.2210\n",
      "Epoch 23/200\n",
      "64/64 [==============================] - 0s 6ms/step - loss: 0.4378 - recall: 0.1665 - val_loss: 0.4160 - val_recall: 0.2486\n",
      "Epoch 24/200\n",
      "64/64 [==============================] - 0s 6ms/step - loss: 0.4377 - recall: 0.1701 - val_loss: 0.4157 - val_recall: 0.2486\n",
      "Epoch 25/200\n",
      "64/64 [==============================] - 0s 6ms/step - loss: 0.4374 - recall: 0.1755 - val_loss: 0.4159 - val_recall: 0.2597\n",
      "Epoch 26/200\n",
      "64/64 [==============================] - 0s 6ms/step - loss: 0.4381 - recall: 0.1689 - val_loss: 0.4169 - val_recall: 0.1989\n",
      "Epoch 27/200\n",
      "64/64 [==============================] - 0s 6ms/step - loss: 0.4379 - recall: 0.1713 - val_loss: 0.4160 - val_recall: 0.2486\n",
      "Epoch 28/200\n",
      "64/64 [==============================] - 0s 6ms/step - loss: 0.4384 - recall: 0.1719 - val_loss: 0.4161 - val_recall: 0.2652\n",
      "Epoch 29/200\n",
      "64/64 [==============================] - 0s 6ms/step - loss: 0.4377 - recall: 0.1665 - val_loss: 0.4160 - val_recall: 0.2652\n",
      "Epoch 30/200\n",
      "64/64 [==============================] - 0s 6ms/step - loss: 0.4375 - recall: 0.1743 - val_loss: 0.4187 - val_recall: 0.3094\n",
      "Epoch 31/200\n",
      "64/64 [==============================] - 0s 6ms/step - loss: 0.4378 - recall: 0.1701 - val_loss: 0.4183 - val_recall: 0.3094\n",
      "Epoch 32/200\n",
      "64/64 [==============================] - 0s 6ms/step - loss: 0.4379 - recall: 0.1671 - val_loss: 0.4165 - val_recall: 0.2099\n",
      "Epoch 33/200\n",
      "64/64 [==============================] - 0s 6ms/step - loss: 0.4374 - recall: 0.1689 - val_loss: 0.4159 - val_recall: 0.2541\n",
      "Epoch 34/200\n",
      "64/64 [==============================] - 0s 6ms/step - loss: 0.4375 - recall: 0.1616 - val_loss: 0.4158 - val_recall: 0.2376\n",
      "Epoch 35/200\n",
      "64/64 [==============================] - 0s 6ms/step - loss: 0.4378 - recall: 0.1622 - val_loss: 0.4170 - val_recall: 0.2818\n",
      "Epoch 36/200\n",
      "64/64 [==============================] - 0s 6ms/step - loss: 0.4376 - recall: 0.1683 - val_loss: 0.4165 - val_recall: 0.1989\n",
      "Epoch 37/200\n",
      "64/64 [==============================] - 0s 6ms/step - loss: 0.4386 - recall: 0.1604 - val_loss: 0.4160 - val_recall: 0.2210\n",
      "Epoch 38/200\n",
      "64/64 [==============================] - 0s 6ms/step - loss: 0.4374 - recall: 0.1592 - val_loss: 0.4161 - val_recall: 0.2376\n",
      "Epoch 39/200\n",
      "64/64 [==============================] - 0s 6ms/step - loss: 0.4373 - recall: 0.1628 - val_loss: 0.4160 - val_recall: 0.2486\n",
      "Epoch 39: early stopping\n"
     ]
    }
   ],
   "source": [
    "history = model.fit(\n",
    "    X_train,            # Preprocessed training data\n",
    "    y_train,            # Training labels\n",
    "    validation_split=0.1,  # 10% of the training data used for validation\n",
    "    batch_size=128,     # Batch size for training\n",
    "    epochs=200,         # Maximum number of epochs\n",
    "    verbose=1,          # Verbosity level\n",
    "    callbacks=[early_stop]  # Include the early stopping callback\n",
    ")\n"
   ]
  },
  {
   "cell_type": "code",
   "execution_count": 45,
   "id": "bf8ae656",
   "metadata": {
    "cell_style": "center",
    "execution": {
     "iopub.execute_input": "2022-03-13T16:34:23.791205Z",
     "iopub.status.busy": "2022-03-13T16:34:23.789308Z",
     "iopub.status.idle": "2022-03-13T16:34:23.798014Z",
     "shell.execute_reply": "2022-03-13T16:34:23.798904Z",
     "shell.execute_reply.started": "2022-03-13T16:25:26.760643Z"
    },
    "hidden": true,
    "papermill": {
     "duration": 0.468168,
     "end_time": "2022-03-13T16:34:23.799157",
     "exception": false,
     "start_time": "2022-03-13T16:34:23.330989",
     "status": "completed"
    },
    "tags": []
   },
   "outputs": [
    {
     "name": "stdout",
     "output_type": "stream",
     "text": [
      "Model: \"sequential_1\"\n",
      "_________________________________________________________________\n",
      " Layer (type)                Output Shape              Param #   \n",
      "=================================================================\n",
      " dense_3 (Dense)             (None, 16)                192       \n",
      "                                                                 \n",
      " dense_4 (Dense)             (None, 8)                 136       \n",
      "                                                                 \n",
      " dense_5 (Dense)             (None, 1)                 9         \n",
      "                                                                 \n",
      "=================================================================\n",
      "Total params: 337 (1.32 KB)\n",
      "Trainable params: 337 (1.32 KB)\n",
      "Non-trainable params: 0 (0.00 Byte)\n",
      "_________________________________________________________________\n"
     ]
    }
   ],
   "source": [
    "model.summary()"
   ]
  },
  {
   "cell_type": "code",
   "execution_count": 46,
   "id": "e930df78",
   "metadata": {
    "execution": {
     "iopub.execute_input": "2022-03-13T16:34:24.696587Z",
     "iopub.status.busy": "2022-03-13T16:34:24.695599Z",
     "iopub.status.idle": "2022-03-13T16:34:24.699423Z",
     "shell.execute_reply": "2022-03-13T16:34:24.699971Z",
     "shell.execute_reply.started": "2022-03-13T16:25:26.770266Z"
    },
    "papermill": {
     "duration": 0.460046,
     "end_time": "2022-03-13T16:34:24.700145",
     "exception": false,
     "start_time": "2022-03-13T16:34:24.240099",
     "status": "completed"
    },
    "tags": []
   },
   "outputs": [
    {
     "data": {
      "text/html": [
       "<div>\n",
       "<style scoped>\n",
       "    .dataframe tbody tr th:only-of-type {\n",
       "        vertical-align: middle;\n",
       "    }\n",
       "\n",
       "    .dataframe tbody tr th {\n",
       "        vertical-align: top;\n",
       "    }\n",
       "\n",
       "    .dataframe thead th {\n",
       "        text-align: right;\n",
       "    }\n",
       "</style>\n",
       "<table border=\"1\" class=\"dataframe\">\n",
       "  <thead>\n",
       "    <tr style=\"text-align: right;\">\n",
       "      <th></th>\n",
       "      <th>loss</th>\n",
       "      <th>recall</th>\n",
       "      <th>val_loss</th>\n",
       "      <th>val_recall</th>\n",
       "    </tr>\n",
       "  </thead>\n",
       "  <tbody>\n",
       "    <tr>\n",
       "      <th>0</th>\n",
       "      <td>0.582885</td>\n",
       "      <td>0.100484</td>\n",
       "      <td>0.514939</td>\n",
       "      <td>0.0</td>\n",
       "    </tr>\n",
       "    <tr>\n",
       "      <th>1</th>\n",
       "      <td>0.513990</td>\n",
       "      <td>0.000000</td>\n",
       "      <td>0.501854</td>\n",
       "      <td>0.0</td>\n",
       "    </tr>\n",
       "    <tr>\n",
       "      <th>2</th>\n",
       "      <td>0.505066</td>\n",
       "      <td>0.000000</td>\n",
       "      <td>0.491723</td>\n",
       "      <td>0.0</td>\n",
       "    </tr>\n",
       "    <tr>\n",
       "      <th>3</th>\n",
       "      <td>0.493448</td>\n",
       "      <td>0.000000</td>\n",
       "      <td>0.477641</td>\n",
       "      <td>0.0</td>\n",
       "    </tr>\n",
       "    <tr>\n",
       "      <th>4</th>\n",
       "      <td>0.482817</td>\n",
       "      <td>0.000605</td>\n",
       "      <td>0.466816</td>\n",
       "      <td>0.0</td>\n",
       "    </tr>\n",
       "  </tbody>\n",
       "</table>\n",
       "</div>"
      ],
      "text/plain": [
       "       loss    recall  val_loss  val_recall\n",
       "0  0.582885  0.100484  0.514939         0.0\n",
       "1  0.513990  0.000000  0.501854         0.0\n",
       "2  0.505066  0.000000  0.491723         0.0\n",
       "3  0.493448  0.000000  0.477641         0.0\n",
       "4  0.482817  0.000605  0.466816         0.0"
      ]
     },
     "execution_count": 46,
     "metadata": {},
     "output_type": "execute_result"
    }
   ],
   "source": [
    "loss_df = pd.DataFrame(model.history.history)\n",
    "loss_df.head()"
   ]
  },
  {
   "cell_type": "code",
   "execution_count": 47,
   "id": "ea555d74",
   "metadata": {
    "cell_style": "split",
    "execution": {
     "iopub.execute_input": "2022-03-13T16:34:25.580057Z",
     "iopub.status.busy": "2022-03-13T16:34:25.577855Z",
     "iopub.status.idle": "2022-03-13T16:34:25.963399Z",
     "shell.execute_reply": "2022-03-13T16:34:25.964046Z",
     "shell.execute_reply.started": "2022-03-13T16:25:26.784579Z"
    },
    "executionInfo": {
     "elapsed": 809,
     "status": "ok",
     "timestamp": 1610205470123,
     "user": {
      "displayName": "Richard C",
      "photoUrl": "",
      "userId": "08040814671867660929"
     },
     "user_tz": -180
    },
    "hidden": true,
    "id": "vQIbjGQduQpQ",
    "papermill": {
     "duration": 0.827658,
     "end_time": "2022-03-13T16:34:25.964272",
     "exception": false,
     "start_time": "2022-03-13T16:34:25.136614",
     "status": "completed"
    },
    "tags": []
   },
   "outputs": [
    {
     "data": {
      "text/plain": [
       "<Axes: >"
      ]
     },
     "execution_count": 47,
     "metadata": {},
     "output_type": "execute_result"
    },
    {
     "data": {
      "image/png": "[encoded data removed]",
      "text/plain": [
       "<Figure size 640x480 with 1 Axes>"
      ]
     },
     "metadata": {},
     "output_type": "display_data"
    }
   ],
   "source": [
    "loss_df.plot()"
   ]
  },
  {
   "cell_type": "code",
   "execution_count": 48,
   "id": "b5d1ea2a",
   "metadata": {
    "cell_style": "split",
    "execution": {
     "iopub.execute_input": "2022-03-13T16:34:26.852629Z",
     "iopub.status.busy": "2022-03-13T16:34:26.851495Z",
     "iopub.status.idle": "2022-03-13T16:34:27.015757Z",
     "shell.execute_reply": "2022-03-13T16:34:27.016543Z",
     "shell.execute_reply.started": "2022-03-13T16:26:03.342983Z"
    },
    "hidden": true,
    "papermill": {
     "duration": 0.612851,
     "end_time": "2022-03-13T16:34:27.016844",
     "exception": false,
     "start_time": "2022-03-13T16:34:26.403993",
     "status": "completed"
    },
    "scrolled": true,
    "tags": []
   },
   "outputs": [
    {
     "name": "stdout",
     "output_type": "stream",
     "text": [
      "32/32 [==============================] - 0s 4ms/step\n",
      "[[773  23]\n",
      " [174  30]]\n",
      "              precision    recall  f1-score   support\n",
      "\n",
      "           0       0.82      0.97      0.89       796\n",
      "           1       0.57      0.15      0.23       204\n",
      "\n",
      "    accuracy                           0.80      1000\n",
      "   macro avg       0.69      0.56      0.56      1000\n",
      "weighted avg       0.77      0.80      0.75      1000\n",
      "\n"
     ]
    }
   ],
   "source": [
    "from sklearn.metrics import confusion_matrix, classification_report\n",
    "y_pred = (model.predict(X_test) > 0.5).astype(\"int32\")\n",
    "print(confusion_matrix(y_test, y_pred))\n",
    "print(classification_report(y_test, y_pred))"
   ]
  },
  {
   "cell_type": "markdown",
   "id": "3740fb65",
   "metadata": {
    "heading_collapsed": true,
    "papermill": {
     "duration": 0.434957,
     "end_time": "2022-03-13T16:34:27.896376",
     "exception": false,
     "start_time": "2022-03-13T16:34:27.461419",
     "status": "completed"
    },
    "tags": []
   },
   "source": [
    "### ROC (Receiver Operating Curve) and AUC (Area Under Curve) for model"
   ]
  },
  {
   "cell_type": "code",
   "execution_count": 49,
   "id": "4bef2e51",
   "metadata": {
    "cell_style": "split",
    "execution": {
     "iopub.execute_input": "2022-03-13T16:34:28.783997Z",
     "iopub.status.busy": "2022-03-13T16:34:28.782847Z",
     "iopub.status.idle": "2022-03-13T16:34:29.144833Z",
     "shell.execute_reply": "2022-03-13T16:34:29.145357Z",
     "shell.execute_reply.started": "2022-03-13T16:26:03.506882Z"
    },
    "hidden": true,
    "papermill": {
     "duration": 0.812776,
     "end_time": "2022-03-13T16:34:29.145544",
     "exception": false,
     "start_time": "2022-03-13T16:34:28.332768",
     "status": "completed"
    },
    "tags": []
   },
   "outputs": [
    {
     "name": "stdout",
     "output_type": "stream",
     "text": [
      "32/32 [==============================] - 0s 1ms/step\n"
     ]
    },
    {
     "data": {
      "image/png": "[encoded data removed]",
      "text/plain": [
       "<Figure size 640x480 with 1 Axes>"
      ]
     },
     "metadata": {},
     "output_type": "display_data"
    }
   ],
   "source": [
    "from sklearn.metrics import precision_recall_curve\n",
    "y_pred_proba = model.predict(X_test)\n",
    "precisions, recalls, thresholds = precision_recall_curve(y_test, y_pred_proba)\n",
    "plt.plot(recalls, precisions, label='ANN')\n",
    "plt.xlabel('recalls')\n",
    "plt.ylabel('precisions')\n",
    "plt.title('Precision-Recall curve')\n",
    "plt.show()\n",
    "# roc curve, sınıflandırma performansını gösterir"
   ]
  },
  {
   "cell_type": "code",
   "execution_count": 50,
   "id": "506ed2db",
   "metadata": {
    "cell_style": "split",
    "execution": {
     "iopub.execute_input": "2022-03-13T16:34:30.039766Z",
     "iopub.status.busy": "2022-03-13T16:34:30.038685Z",
     "iopub.status.idle": "2022-03-13T16:34:30.047243Z",
     "shell.execute_reply": "2022-03-13T16:34:30.046661Z",
     "shell.execute_reply.started": "2022-03-13T16:26:03.813490Z"
    },
    "hidden": true,
    "papermill": {
     "duration": 0.460725,
     "end_time": "2022-03-13T16:34:30.047387",
     "exception": false,
     "start_time": "2022-03-13T16:34:29.586662",
     "status": "completed"
    },
    "scrolled": true,
    "tags": []
   },
   "outputs": [
    {
     "data": {
      "text/plain": [
       "0.4306051914766783"
      ]
     },
     "execution_count": 50,
     "metadata": {},
     "output_type": "execute_result"
    }
   ],
   "source": [
    "from sklearn.metrics import average_precision_score\n",
    "average_precision_score(y_test, y_pred_proba)"
   ]
  },
  {
   "cell_type": "markdown",
   "id": "1a0da3b9",
   "metadata": {
    "papermill": {
     "duration": 0.44284,
     "end_time": "2022-03-13T16:34:30.931533",
     "exception": false,
     "start_time": "2022-03-13T16:34:30.488693",
     "status": "completed"
    },
    "tags": []
   },
   "source": [
    "### with class_weigth"
   ]
  },
  {
   "cell_type": "code",
   "execution_count": 51,
   "id": "460b7520",
   "metadata": {
    "cell_style": "split",
    "execution": {
     "iopub.execute_input": "2022-03-13T16:34:31.883556Z",
     "iopub.status.busy": "2022-03-13T16:34:31.882465Z",
     "iopub.status.idle": "2022-03-13T16:34:31.905328Z",
     "shell.execute_reply": "2022-03-13T16:34:31.904788Z",
     "shell.execute_reply.started": "2022-03-13T16:26:03.825443Z"
    },
    "papermill": {
     "duration": 0.528825,
     "end_time": "2022-03-13T16:34:31.905472",
     "exception": false,
     "start_time": "2022-03-13T16:34:31.376647",
     "status": "completed"
    },
    "tags": []
   },
   "outputs": [
    {
     "name": "stderr",
     "output_type": "stream",
     "text": [
      "WARNING:absl:At this time, the v2.11+ optimizer `tf.keras.optimizers.Adam` runs slowly on M1/M2 Macs, please use the legacy Keras optimizer instead, located at `tf.keras.optimizers.legacy.Adam`.\n"
     ]
    }
   ],
   "source": [
    "model = Sequential()\n",
    "\n",
    "tf.random.set_seed(seed)\n",
    "\n",
    "model.add(Dense(16, activation=\"relu\"))\n",
    "model.add(Dense(8, activation=\"relu\"))\n",
    "model.add(Dense(1, activation=\"sigmoid\"))\n",
    "\n",
    "opt = Adam(learning_rate=0.001)\n",
    "model.compile(optimizer=opt, \n",
    "              loss=\"binary_crossentropy\",\n",
    "              metrics=[\"Recall\"])"
   ]
  },
  {
   "cell_type": "code",
   "execution_count": 52,
   "id": "6728edd5",
   "metadata": {
    "execution": {
     "iopub.execute_input": "2022-03-13T16:34:33.125043Z",
     "iopub.status.busy": "2022-03-13T16:34:33.122331Z",
     "iopub.status.idle": "2022-03-13T16:34:33.132339Z",
     "shell.execute_reply": "2022-03-13T16:34:33.133007Z",
     "shell.execute_reply.started": "2022-03-13T16:26:03.851337Z"
    },
    "papermill": {
     "duration": 0.778911,
     "end_time": "2022-03-13T16:34:33.133215",
     "exception": false,
     "start_time": "2022-03-13T16:34:32.354304",
     "status": "completed"
    },
    "tags": []
   },
   "outputs": [
    {
     "data": {
      "text/plain": [
       "{0: 0.6278777731268314, 1: 2.454991816693944}"
      ]
     },
     "execution_count": 52,
     "metadata": {},
     "output_type": "execute_result"
    }
   ],
   "source": [
    "from sklearn.utils import class_weight\n",
    "\n",
    "class_weights = class_weight.compute_class_weight('balanced',\n",
    "                                                  classes=np.unique(y_train),\n",
    "                                                  y=y_train)\n",
    "\n",
    "class_weights = {0: class_weights[0], 1: class_weights[1]}\n",
    "class_weights"
   ]
  },
  {
   "cell_type": "code",
   "execution_count": 53,
   "id": "399b81bc",
   "metadata": {
    "execution": {
     "iopub.execute_input": "2022-03-13T16:34:34.059885Z",
     "iopub.status.busy": "2022-03-13T16:34:34.058808Z",
     "iopub.status.idle": "2022-03-13T16:34:57.425839Z",
     "shell.execute_reply": "2022-03-13T16:34:57.426424Z",
     "shell.execute_reply.started": "2022-03-13T16:26:03.865961Z"
    },
    "papermill": {
     "duration": 23.820803,
     "end_time": "2022-03-13T16:34:57.426628",
     "exception": false,
     "start_time": "2022-03-13T16:34:33.605825",
     "status": "completed"
    },
    "scrolled": true,
    "tags": []
   },
   "outputs": [
    {
     "name": "stdout",
     "output_type": "stream",
     "text": [
      "Epoch 1/200\n",
      "64/64 [==============================] - 1s 10ms/step - loss: 0.7462 - recall: 0.2851 - val_loss: 0.6704 - val_recall: 0.2210\n",
      "Epoch 2/200\n",
      "64/64 [==============================] - 0s 7ms/step - loss: 0.7035 - recall: 0.3275 - val_loss: 0.6733 - val_recall: 0.4309\n",
      "Epoch 3/200\n",
      "64/64 [==============================] - 0s 6ms/step - loss: 0.6762 - recall: 0.5327 - val_loss: 0.6333 - val_recall: 0.4862\n",
      "Epoch 4/200\n",
      "64/64 [==============================] - 0s 6ms/step - loss: 0.6575 - recall: 0.6211 - val_loss: 0.6112 - val_recall: 0.5470\n",
      "Epoch 5/200\n",
      "64/64 [==============================] - 0s 6ms/step - loss: 0.6454 - recall: 0.6338 - val_loss: 0.6418 - val_recall: 0.6740\n",
      "Epoch 6/200\n",
      "64/64 [==============================] - 0s 6ms/step - loss: 0.6354 - recall: 0.6580 - val_loss: 0.5976 - val_recall: 0.6188\n",
      "Epoch 7/200\n",
      "64/64 [==============================] - 0s 6ms/step - loss: 0.6281 - recall: 0.6598 - val_loss: 0.6278 - val_recall: 0.6851\n",
      "Epoch 8/200\n",
      "64/64 [==============================] - 0s 6ms/step - loss: 0.6206 - recall: 0.6634 - val_loss: 0.6093 - val_recall: 0.6851\n",
      "Epoch 9/200\n",
      "64/64 [==============================] - 0s 6ms/step - loss: 0.6140 - recall: 0.6804 - val_loss: 0.6313 - val_recall: 0.7459\n",
      "Epoch 10/200\n",
      "64/64 [==============================] - 0s 7ms/step - loss: 0.6083 - recall: 0.6768 - val_loss: 0.6062 - val_recall: 0.7182\n",
      "Epoch 11/200\n",
      "64/64 [==============================] - 0s 7ms/step - loss: 0.6046 - recall: 0.6707 - val_loss: 0.5849 - val_recall: 0.7072\n",
      "Epoch 12/200\n",
      "64/64 [==============================] - 0s 7ms/step - loss: 0.6001 - recall: 0.6913 - val_loss: 0.6050 - val_recall: 0.7514\n",
      "Epoch 13/200\n",
      "64/64 [==============================] - 0s 6ms/step - loss: 0.5972 - recall: 0.6762 - val_loss: 0.6394 - val_recall: 0.7956\n",
      "Epoch 14/200\n",
      "64/64 [==============================] - 0s 6ms/step - loss: 0.5957 - recall: 0.6973 - val_loss: 0.5718 - val_recall: 0.6961\n",
      "Epoch 15/200\n",
      "64/64 [==============================] - 0s 6ms/step - loss: 0.5934 - recall: 0.6870 - val_loss: 0.5821 - val_recall: 0.7182\n",
      "Epoch 16/200\n",
      "64/64 [==============================] - 0s 6ms/step - loss: 0.5932 - recall: 0.6877 - val_loss: 0.5954 - val_recall: 0.7348\n",
      "Epoch 17/200\n",
      "64/64 [==============================] - 0s 7ms/step - loss: 0.5916 - recall: 0.6931 - val_loss: 0.5634 - val_recall: 0.6961\n",
      "Epoch 18/200\n",
      "64/64 [==============================] - 0s 6ms/step - loss: 0.5912 - recall: 0.6822 - val_loss: 0.5718 - val_recall: 0.6961\n",
      "Epoch 19/200\n",
      "64/64 [==============================] - 0s 7ms/step - loss: 0.5914 - recall: 0.6786 - val_loss: 0.5992 - val_recall: 0.7348\n",
      "Epoch 20/200\n",
      "64/64 [==============================] - 0s 7ms/step - loss: 0.5906 - recall: 0.6864 - val_loss: 0.5729 - val_recall: 0.7017\n",
      "Epoch 21/200\n",
      "64/64 [==============================] - 0s 7ms/step - loss: 0.5904 - recall: 0.6804 - val_loss: 0.5949 - val_recall: 0.7238\n",
      "Epoch 22/200\n",
      "64/64 [==============================] - 0s 7ms/step - loss: 0.5903 - recall: 0.6877 - val_loss: 0.5628 - val_recall: 0.6961\n",
      "Epoch 23/200\n",
      "64/64 [==============================] - 0s 7ms/step - loss: 0.5906 - recall: 0.6816 - val_loss: 0.5710 - val_recall: 0.6961\n",
      "Epoch 24/200\n",
      "64/64 [==============================] - 0s 7ms/step - loss: 0.5902 - recall: 0.6719 - val_loss: 0.5825 - val_recall: 0.7182\n",
      "Epoch 25/200\n",
      "64/64 [==============================] - 0s 7ms/step - loss: 0.5896 - recall: 0.6810 - val_loss: 0.5932 - val_recall: 0.7238\n",
      "Epoch 26/200\n",
      "64/64 [==============================] - 0s 7ms/step - loss: 0.5902 - recall: 0.6864 - val_loss: 0.5418 - val_recall: 0.6575\n",
      "Epoch 27/200\n",
      "64/64 [==============================] - 0s 7ms/step - loss: 0.5898 - recall: 0.6858 - val_loss: 0.5823 - val_recall: 0.7182\n",
      "Epoch 28/200\n",
      "64/64 [==============================] - 0s 7ms/step - loss: 0.5916 - recall: 0.6786 - val_loss: 0.5898 - val_recall: 0.7348\n",
      "Epoch 29/200\n",
      "64/64 [==============================] - 0s 7ms/step - loss: 0.5910 - recall: 0.6695 - val_loss: 0.5939 - val_recall: 0.7348\n",
      "Epoch 30/200\n",
      "64/64 [==============================] - 0s 7ms/step - loss: 0.5902 - recall: 0.6755 - val_loss: 0.6031 - val_recall: 0.7348\n",
      "Epoch 31/200\n",
      "64/64 [==============================] - 0s 7ms/step - loss: 0.5900 - recall: 0.6810 - val_loss: 0.6225 - val_recall: 0.7569\n",
      "Epoch 32/200\n",
      "64/64 [==============================] - 0s 7ms/step - loss: 0.5905 - recall: 0.6786 - val_loss: 0.5532 - val_recall: 0.6906\n",
      "Epoch 33/200\n",
      "64/64 [==============================] - 0s 7ms/step - loss: 0.5893 - recall: 0.6768 - val_loss: 0.5804 - val_recall: 0.7182\n",
      "Epoch 34/200\n",
      "64/64 [==============================] - 0s 7ms/step - loss: 0.5900 - recall: 0.6707 - val_loss: 0.5636 - val_recall: 0.7017\n",
      "Epoch 35/200\n",
      "64/64 [==============================] - 0s 7ms/step - loss: 0.5905 - recall: 0.6731 - val_loss: 0.6088 - val_recall: 0.7403\n",
      "Epoch 36/200\n",
      "64/64 [==============================] - 0s 7ms/step - loss: 0.5898 - recall: 0.6883 - val_loss: 0.5531 - val_recall: 0.6740\n",
      "Epoch 37/200\n",
      "64/64 [==============================] - 0s 7ms/step - loss: 0.5912 - recall: 0.6719 - val_loss: 0.5578 - val_recall: 0.6740\n",
      "Epoch 38/200\n",
      "64/64 [==============================] - 0s 7ms/step - loss: 0.5900 - recall: 0.6774 - val_loss: 0.5775 - val_recall: 0.7072\n",
      "Epoch 39/200\n",
      "64/64 [==============================] - 0s 7ms/step - loss: 0.5894 - recall: 0.6774 - val_loss: 0.5631 - val_recall: 0.6906\n",
      "Epoch 40/200\n",
      "64/64 [==============================] - 0s 7ms/step - loss: 0.5892 - recall: 0.6804 - val_loss: 0.5693 - val_recall: 0.7182\n",
      "Epoch 41/200\n",
      "64/64 [==============================] - 0s 7ms/step - loss: 0.5896 - recall: 0.6683 - val_loss: 0.6009 - val_recall: 0.7293\n",
      "Epoch 41: early stopping\n"
     ]
    },
    {
     "data": {
      "text/plain": [
       "<keras.src.callbacks.History at 0x2ac4c37d0>"
      ]
     },
     "execution_count": 53,
     "metadata": {},
     "output_type": "execute_result"
    }
   ],
   "source": [
    "model.fit(x=X_train,\n",
    "          y=y_train,\n",
    "          validation_split=.1,\n",
    "          batch_size=128,\n",
    "          epochs=200,\n",
    "          verbose=1,\n",
    "          callbacks=[early_stop],\n",
    "          class_weight=class_weights)"
   ]
  },
  {
   "cell_type": "code",
   "execution_count": 54,
   "id": "a573a4ec",
   "metadata": {
    "cell_style": "split",
    "execution": {
     "iopub.execute_input": "2022-03-13T16:34:58.713181Z",
     "iopub.status.busy": "2022-03-13T16:34:58.711910Z",
     "iopub.status.idle": "2022-03-13T16:34:59.102093Z",
     "shell.execute_reply": "2022-03-13T16:34:59.102644Z",
     "shell.execute_reply.started": "2022-03-13T16:26:20.601131Z"
    },
    "executionInfo": {
     "elapsed": 809,
     "status": "ok",
     "timestamp": 1610205470123,
     "user": {
      "displayName": "Richard C",
      "photoUrl": "",
      "userId": "08040814671867660929"
     },
     "user_tz": -180
    },
    "id": "vQIbjGQduQpQ",
    "papermill": {
     "duration": 1.039938,
     "end_time": "2022-03-13T16:34:59.102821",
     "exception": false,
     "start_time": "2022-03-13T16:34:58.062883",
     "status": "completed"
    },
    "tags": []
   },
   "outputs": [
    {
     "data": {
      "text/plain": [
       "<Axes: >"
      ]
     },
     "execution_count": 54,
     "metadata": {},
     "output_type": "execute_result"
    },
    {
     "data": {
      "image/png": "[encoded data removed]",
      "text/plain": [
       "<Figure size 640x480 with 1 Axes>"
      ]
     },
     "metadata": {},
     "output_type": "display_data"
    }
   ],
   "source": [
    "loss_df = pd.DataFrame(model.history.history)\n",
    "loss_df.plot()"
   ]
  },
  {
   "cell_type": "code",
   "execution_count": 55,
   "id": "1be6f388",
   "metadata": {
    "cell_style": "split",
    "execution": {
     "iopub.execute_input": "2022-03-13T16:35:00.378005Z",
     "iopub.status.busy": "2022-03-13T16:35:00.376927Z",
     "iopub.status.idle": "2022-03-13T16:35:00.526588Z",
     "shell.execute_reply": "2022-03-13T16:35:00.526013Z",
     "shell.execute_reply.started": "2022-03-13T16:26:25.133970Z"
    },
    "papermill": {
     "duration": 0.791041,
     "end_time": "2022-03-13T16:35:00.526733",
     "exception": false,
     "start_time": "2022-03-13T16:34:59.735692",
     "status": "completed"
    },
    "tags": []
   },
   "outputs": [
    {
     "name": "stdout",
     "output_type": "stream",
     "text": [
      "32/32 [==============================] - 0s 1ms/step\n",
      "[[524 272]\n",
      " [ 54 150]]\n",
      "              precision    recall  f1-score   support\n",
      "\n",
      "           0       0.91      0.66      0.76       796\n",
      "           1       0.36      0.74      0.48       204\n",
      "\n",
      "    accuracy                           0.67      1000\n",
      "   macro avg       0.63      0.70      0.62      1000\n",
      "weighted avg       0.79      0.67      0.70      1000\n",
      "\n"
     ]
    }
   ],
   "source": [
    "y_pred = (model.predict(X_test) > 0.5).astype(\"int32\")\n",
    "print(confusion_matrix(y_test, y_pred))\n",
    "print(classification_report(y_test, y_pred))"
   ]
  },
  {
   "cell_type": "markdown",
   "id": "b4d2e441",
   "metadata": {
    "papermill": {
     "duration": 0.646615,
     "end_time": "2022-03-13T16:35:01.816582",
     "exception": false,
     "start_time": "2022-03-13T16:35:01.169967",
     "status": "completed"
    },
    "tags": []
   },
   "source": [
    "### ROC (Receiver Operating Curve) and AUC (Area Under Curve) for model"
   ]
  },
  {
   "cell_type": "code",
   "execution_count": 56,
   "id": "6bbf3113",
   "metadata": {
    "cell_style": "split",
    "execution": {
     "iopub.execute_input": "2022-03-13T16:35:03.097454Z",
     "iopub.status.busy": "2022-03-13T16:35:03.096379Z",
     "iopub.status.idle": "2022-03-13T16:35:03.544238Z",
     "shell.execute_reply": "2022-03-13T16:35:03.543655Z",
     "shell.execute_reply.started": "2022-03-13T16:26:25.231910Z"
    },
    "papermill": {
     "duration": 1.090036,
     "end_time": "2022-03-13T16:35:03.544400",
     "exception": false,
     "start_time": "2022-03-13T16:35:02.454364",
     "status": "completed"
    },
    "tags": []
   },
   "outputs": [
    {
     "name": "stdout",
     "output_type": "stream",
     "text": [
      "32/32 [==============================] - 0s 1ms/step\n"
     ]
    },
    {
     "data": {
      "image/png": "[encoded data removed]",
      "text/plain": [
       "<Figure size 640x480 with 1 Axes>"
      ]
     },
     "metadata": {},
     "output_type": "display_data"
    }
   ],
   "source": [
    "y_pred_proba = model.predict(X_test)\n",
    "precisions, recalls, thresholds = precision_recall_curve(y_test, y_pred_proba)\n",
    "plt.plot(recalls, precisions, label='ANN')\n",
    "plt.xlabel('recalls')\n",
    "plt.ylabel('precisions')\n",
    "plt.title('Precision-Recall curve')\n",
    "plt.show()\n",
    "# roc curve, sınıflandırma performansını gösterir"
   ]
  },
  {
   "cell_type": "code",
   "execution_count": 57,
   "id": "737016ce",
   "metadata": {
    "cell_style": "split",
    "execution": {
     "iopub.execute_input": "2022-03-13T16:35:04.860022Z",
     "iopub.status.busy": "2022-03-13T16:35:04.858995Z",
     "iopub.status.idle": "2022-03-13T16:35:04.866020Z",
     "shell.execute_reply": "2022-03-13T16:35:04.866575Z",
     "shell.execute_reply.started": "2022-03-13T16:26:25.512499Z"
    },
    "papermill": {
     "duration": 0.67062,
     "end_time": "2022-03-13T16:35:04.866738",
     "exception": false,
     "start_time": "2022-03-13T16:35:04.196118",
     "status": "completed"
    },
    "tags": []
   },
   "outputs": [
    {
     "data": {
      "text/plain": [
       "0.4233596264399594"
      ]
     },
     "execution_count": 57,
     "metadata": {},
     "output_type": "execute_result"
    }
   ],
   "source": [
    "average_precision_score(y_test, y_pred_proba)   #0.692983743350624"
   ]
  },
  {
   "cell_type": "code",
   "execution_count": 58,
   "id": "8c194309",
   "metadata": {},
   "outputs": [],
   "source": [
    "from tensorflow.keras.optimizers import Adadelta, RMSprop, Nadam, Adam, SGD\n",
    "def build_classifier(optimizer,learn_rate):\n",
    "    classifier = Sequential()\n",
    "    classifier.add(Dense(units=16, activation='relu'))\n",
    "    classifier.add(Dense(units=8, activation='relu'))\n",
    "    classifier.add(Dense(units=1, activation='sigmoid'))\n",
    "    classifier.compile(optimizer=optimizer(learn_rate),\n",
    "                       loss='binary_crossentropy',\n",
    "                       metrics=['Recall'])\n",
    "    return classifier"
   ]
  },
  {
   "cell_type": "code",
   "execution_count": 59,
   "id": "4e406143",
   "metadata": {},
   "outputs": [
    {
     "data": {
      "text/plain": [
       "{0: 0.6278777731268314, 1: 2.454991816693944}"
      ]
     },
     "execution_count": 59,
     "metadata": {},
     "output_type": "execute_result"
    }
   ],
   "source": [
    "class_weights"
   ]
  },
  {
   "cell_type": "code",
   "execution_count": 60,
   "id": "98ee9950",
   "metadata": {
    "execution": {
     "iopub.execute_input": "2022-03-13T16:35:09.057741Z",
     "iopub.status.busy": "2022-03-13T16:35:09.056882Z",
     "iopub.status.idle": "2022-03-13T16:35:09.061376Z",
     "shell.execute_reply": "2022-03-13T16:35:09.060735Z",
     "shell.execute_reply.started": "2022-03-13T16:26:32.656434Z"
    },
    "papermill": {
     "duration": 0.654164,
     "end_time": "2022-03-13T16:35:09.061513",
     "exception": false,
     "start_time": "2022-03-13T16:35:08.407349",
     "status": "completed"
    },
    "tags": []
   },
   "outputs": [],
   "source": [
    "from sklearn.model_selection import GridSearchCV\n",
    "\n",
    "tf.random.set_seed(seed)\n",
    "\n",
    "classifier = KerasClassifier(build_fn=build_classifier, epochs=200)\n",
    "parameters = {\n",
    "    'batch_size': [128, 256],\n",
    "    'optimizer': [Adam, RMSprop, Nadam, Adadelta, SGD],\n",
    "    'learn_rate': [0.001, 0.003, 0.005]\n",
    "}\n",
    "grid_model = GridSearchCV(estimator=classifier,\n",
    "                          param_grid=parameters,\n",
    "                          scoring='recall',\n",
    "                          cv=5,\n",
    "                          n_jobs=-1,\n",
    "                          verbose=0)\n",
    "#grid_model.fit(X_train,y_train, class_weight=class_weights)"
   ]
  },
  {
   "cell_type": "code",
   "execution_count": 61,
   "id": "909f94b1",
   "metadata": {},
   "outputs": [],
   "source": [
    "# Create a custom wrapper class\n",
    "class CustomKerasClassifier(KerasClassifier):\n",
    "    def __init__(self, build_fn=None, learn_rate=0.001, **kwargs):\n",
    "        self.learn_rate = learn_rate\n",
    "        super(CustomKerasClassifier, self).__init__(build_fn=build_fn, **kwargs)\n",
    "    \n",
    "    def build_fn(self):\n",
    "        return build_classifier(learn_rate=self.learn_rate)\n",
    "\n",
    "# Create a CustomKerasClassifier instance\n",
    "classifier = CustomKerasClassifier(epochs=200, batch_size=128)\n",
    "\n",
    "# Define the parameters grid for grid search\n",
    "parameters = {\n",
    "    'learn_rate': [0.001, 0.003, 0.005],\n",
    "    'batch_size': [128, 256]\n",
    "}"
   ]
  },
  {
   "cell_type": "code",
   "execution_count": 62,
   "id": "578caaca",
   "metadata": {},
   "outputs": [
    {
     "data": {
      "text/plain": [
       "{0: 0.6278777731268314, 1: 2.454991816693944}"
      ]
     },
     "execution_count": 62,
     "metadata": {},
     "output_type": "execute_result"
    }
   ],
   "source": [
    "class_weights"
   ]
  },
  {
   "cell_type": "code",
   "execution_count": 63,
   "id": "4b53208d",
   "metadata": {},
   "outputs": [],
   "source": [
    "\n",
    "\n",
    "classifier = KerasClassifier(build_fn=build_classifier, epochs=200)\n",
    "parameters = {\n",
    "    'batch_size': [128, 256],\n",
    "    'optimizer': [Adam, RMSprop, Nadam, Adadelta, SGD],\n",
    "    'learn_rate': [0.001, 0.003, 0.005]\n",
    "}\n",
    "grid_model = GridSearchCV(estimator=classifier,\n",
    "                          param_grid=parameters,\n",
    "                          scoring='recall',\n",
    "                          cv=5,\n",
    "                          n_jobs=-1,\n",
    "                          verbose=0)"
   ]
  },
  {
   "cell_type": "code",
   "execution_count": 64,
   "id": "eff2469e",
   "metadata": {},
   "outputs": [],
   "source": [
    "#grid_model.fit(X_train, y_train, class_weight=class_weights)"
   ]
  },
  {
   "cell_type": "markdown",
   "id": "de8b15ae",
   "metadata": {
    "papermill": {
     "duration": 1.271435,
     "end_time": "2022-03-13T16:37:02.549812",
     "exception": false,
     "start_time": "2022-03-13T16:37:01.278377",
     "status": "completed"
    },
    "tags": []
   },
   "source": [
    "### ROC (Receiver Operating Curve) and AUC (Area Under Curve) for grid_model"
   ]
  },
  {
   "cell_type": "code",
   "execution_count": 65,
   "id": "b76752e9",
   "metadata": {
    "cell_style": "split",
    "execution": {
     "iopub.execute_input": "2022-03-13T16:37:05.149773Z",
     "iopub.status.busy": "2022-03-13T16:37:05.148687Z",
     "iopub.status.idle": "2022-03-13T16:37:05.817184Z",
     "shell.execute_reply": "2022-03-13T16:37:05.817773Z",
     "shell.execute_reply.started": "2022-03-13T16:28:48.240724Z"
    },
    "papermill": {
     "duration": 1.951563,
     "end_time": "2022-03-13T16:37:05.817971",
     "exception": false,
     "start_time": "2022-03-13T16:37:03.866408",
     "status": "completed"
    },
    "tags": []
   },
   "outputs": [],
   "source": [
    "#y_pred_proba = grid_model.predict(X_test)\n",
    "#precisions, recalls, thresholds = precision_recall_curve(y_test, y_pred_proba)\n",
    "#plt.plot(recalls, precisions, label='ANN')\n",
    "#plt.xlabel('recalls')\n",
    "#plt.ylabel('precisions')\n",
    "#plt.title('Precision-Recall curve')\n",
    "#plt.show()"
   ]
  },
  {
   "cell_type": "code",
   "execution_count": 66,
   "id": "71741108",
   "metadata": {
    "cell_style": "split",
    "execution": {
     "iopub.execute_input": "2022-03-13T16:37:08.776541Z",
     "iopub.status.busy": "2022-03-13T16:37:08.773090Z",
     "iopub.status.idle": "2022-03-13T16:37:08.781676Z",
     "shell.execute_reply": "2022-03-13T16:37:08.782155Z",
     "shell.execute_reply.started": "2022-03-13T16:28:49.072121Z"
    },
    "papermill": {
     "duration": 1.292719,
     "end_time": "2022-03-13T16:37:08.782344",
     "exception": false,
     "start_time": "2022-03-13T16:37:07.489625",
     "status": "completed"
    },
    "scrolled": true,
    "tags": []
   },
   "outputs": [
    {
     "data": {
      "text/plain": [
       "0.4233596264399594"
      ]
     },
     "execution_count": 66,
     "metadata": {},
     "output_type": "execute_result"
    }
   ],
   "source": [
    "average_precision_score(y_test, y_pred_proba)"
   ]
  },
  {
   "cell_type": "markdown",
   "id": "c0183755",
   "metadata": {
    "papermill": {
     "duration": 1.269124,
     "end_time": "2022-03-13T16:37:11.320422",
     "exception": false,
     "start_time": "2022-03-13T16:37:10.051298",
     "status": "completed"
    },
    "tags": []
   },
   "source": [
    "## Final Model and Model Deployment"
   ]
  },
  {
   "cell_type": "code",
   "execution_count": 67,
   "id": "f7b9a37d",
   "metadata": {
    "execution": {
     "iopub.execute_input": "2022-03-13T16:37:13.877343Z",
     "iopub.status.busy": "2022-03-13T16:37:13.876422Z",
     "iopub.status.idle": "2022-03-13T16:37:13.879483Z",
     "shell.execute_reply": "2022-03-13T16:37:13.879988Z",
     "shell.execute_reply.started": "2022-03-13T16:28:50.736221Z"
    },
    "papermill": {
     "duration": 1.289758,
     "end_time": "2022-03-13T16:37:13.880164",
     "exception": false,
     "start_time": "2022-03-13T16:37:12.590406",
     "status": "completed"
    },
    "tags": []
   },
   "outputs": [],
   "source": [
    "import pickle\n",
    "\n",
    "pickle.dump(scaler, open(\"scaler_churn\", 'wb'))"
   ]
  },
  {
   "cell_type": "code",
   "execution_count": 68,
   "id": "37ab788a",
   "metadata": {
    "execution": {
     "iopub.execute_input": "2022-03-13T16:37:16.465407Z",
     "iopub.status.busy": "2022-03-13T16:37:16.462885Z",
     "iopub.status.idle": "2022-03-13T16:37:30.808000Z",
     "shell.execute_reply": "2022-03-13T16:37:30.808883Z",
     "shell.execute_reply.started": "2022-03-13T16:28:51.373556Z"
    },
    "papermill": {
     "duration": 15.658602,
     "end_time": "2022-03-13T16:37:30.809064",
     "exception": false,
     "start_time": "2022-03-13T16:37:15.150462",
     "status": "completed"
    },
    "scrolled": true,
    "tags": []
   },
   "outputs": [
    {
     "name": "stderr",
     "output_type": "stream",
     "text": [
      "WARNING:absl:At this time, the v2.11+ optimizer `tf.keras.optimizers.Adam` runs slowly on M1/M2 Macs, please use the legacy Keras optimizer instead, located at `tf.keras.optimizers.legacy.Adam`.\n"
     ]
    },
    {
     "name": "stdout",
     "output_type": "stream",
     "text": [
      "Epoch 1/200\n",
      "36/36 [==============================] - 1s 13ms/step - loss: 0.6635 - recall: 0.5734 - val_loss: 0.6191 - val_recall: 0.6078\n",
      "Epoch 2/200\n",
      "36/36 [==============================] - 0s 7ms/step - loss: 0.6345 - recall: 0.6498 - val_loss: 0.6619 - val_recall: 0.7647\n",
      "Epoch 3/200\n",
      "36/36 [==============================] - 0s 7ms/step - loss: 0.6204 - recall: 0.6688 - val_loss: 0.6365 - val_recall: 0.7402\n",
      "Epoch 4/200\n",
      "36/36 [==============================] - 0s 8ms/step - loss: 0.6092 - recall: 0.6787 - val_loss: 0.6255 - val_recall: 0.7304\n",
      "Epoch 5/200\n",
      "36/36 [==============================] - 0s 7ms/step - loss: 0.5991 - recall: 0.6890 - val_loss: 0.5703 - val_recall: 0.6471\n",
      "Epoch 6/200\n",
      "36/36 [==============================] - 0s 7ms/step - loss: 0.5930 - recall: 0.6765 - val_loss: 0.6634 - val_recall: 0.7941\n",
      "Epoch 7/200\n",
      "36/36 [==============================] - 0s 7ms/step - loss: 0.5916 - recall: 0.6901 - val_loss: 0.5758 - val_recall: 0.6863\n",
      "Epoch 8/200\n",
      "36/36 [==============================] - 0s 7ms/step - loss: 0.5895 - recall: 0.6759 - val_loss: 0.5934 - val_recall: 0.7157\n",
      "Epoch 9/200\n",
      "36/36 [==============================] - 0s 7ms/step - loss: 0.5905 - recall: 0.6792 - val_loss: 0.6405 - val_recall: 0.7745\n",
      "Epoch 10/200\n",
      "36/36 [==============================] - 0s 8ms/step - loss: 0.5911 - recall: 0.6896 - val_loss: 0.5770 - val_recall: 0.6765\n",
      "Epoch 11/200\n",
      "36/36 [==============================] - 0s 8ms/step - loss: 0.5893 - recall: 0.6869 - val_loss: 0.6121 - val_recall: 0.7500\n",
      "Epoch 12/200\n",
      "36/36 [==============================] - 0s 8ms/step - loss: 0.5891 - recall: 0.6672 - val_loss: 0.6677 - val_recall: 0.8039\n",
      "Epoch 13/200\n",
      "36/36 [==============================] - 0s 7ms/step - loss: 0.5891 - recall: 0.6830 - val_loss: 0.6317 - val_recall: 0.7696\n",
      "Epoch 14/200\n",
      "36/36 [==============================] - 0s 7ms/step - loss: 0.5885 - recall: 0.6770 - val_loss: 0.5977 - val_recall: 0.7255\n",
      "Epoch 15/200\n",
      "36/36 [==============================] - 0s 7ms/step - loss: 0.5878 - recall: 0.6863 - val_loss: 0.5728 - val_recall: 0.6667\n",
      "Epoch 16/200\n",
      "36/36 [==============================] - 0s 7ms/step - loss: 0.5888 - recall: 0.6727 - val_loss: 0.6074 - val_recall: 0.7402\n",
      "Epoch 17/200\n",
      "36/36 [==============================] - 0s 7ms/step - loss: 0.5897 - recall: 0.6852 - val_loss: 0.5905 - val_recall: 0.7157\n",
      "Epoch 18/200\n",
      "36/36 [==============================] - 0s 7ms/step - loss: 0.5876 - recall: 0.6754 - val_loss: 0.6071 - val_recall: 0.7402\n",
      "Epoch 19/200\n",
      "36/36 [==============================] - 0s 7ms/step - loss: 0.5883 - recall: 0.6836 - val_loss: 0.5849 - val_recall: 0.7010\n",
      "Epoch 20/200\n",
      "36/36 [==============================] - 0s 7ms/step - loss: 0.5899 - recall: 0.6787 - val_loss: 0.5739 - val_recall: 0.6863\n",
      "Epoch 20: early stopping\n"
     ]
    },
    {
     "data": {
      "text/plain": [
       "<keras.src.callbacks.History at 0x2ac687a10>"
      ]
     },
     "execution_count": 68,
     "metadata": {},
     "output_type": "execute_result"
    }
   ],
   "source": [
    "tf.random.set_seed(seed)\n",
    "\n",
    "model = Sequential()\n",
    "\n",
    "model.add(Dense(16, activation=\"relu\"))\n",
    "model.add(Dense(8, activation=\"relu\"))\n",
    "model.add(Dense(1, activation=\"sigmoid\"))\n",
    "\n",
    "opt = Adam(learning_rate=0.003)\n",
    "\n",
    "model.compile(optimizer=opt,\n",
    "              loss=\"binary_crossentropy\",\n",
    "              metrics=[\"Recall\"])\n",
    "\n",
    "model.fit(x=X_train,\n",
    "          y=y_train,\n",
    "          validation_data=(X_test, y_test), \n",
    "          callbacks=[early_stop],\n",
    "          batch_size=256,\n",
    "          epochs=200,\n",
    "          verbose=1,\n",
    "          class_weight=class_weights)    \n",
    "# {'batch_size': 256,'learn_rate': 0.003,'optimizer': keras.optimizer_v2.adam.Adam}\n",
    "# pay attention!! validation data "
   ]
  },
  {
   "cell_type": "code",
   "execution_count": 69,
   "id": "9d2f08a6",
   "metadata": {
    "cell_style": "split",
    "execution": {
     "iopub.execute_input": "2022-03-13T16:37:33.769897Z",
     "iopub.status.busy": "2022-03-13T16:37:33.768829Z",
     "iopub.status.idle": "2022-03-13T16:37:38.007745Z",
     "shell.execute_reply": "2022-03-13T16:37:38.008309Z",
     "shell.execute_reply.started": "2022-03-13T16:29:00.554046Z"
    },
    "executionInfo": {
     "elapsed": 809,
     "status": "ok",
     "timestamp": 1610205470123,
     "user": {
      "displayName": "Richard C",
      "photoUrl": "",
      "userId": "08040814671867660929"
     },
     "user_tz": -180
    },
    "id": "vQIbjGQduQpQ",
    "papermill": {
     "duration": 5.659657,
     "end_time": "2022-03-13T16:37:38.008490",
     "exception": false,
     "start_time": "2022-03-13T16:37:32.348833",
     "status": "completed"
    },
    "tags": []
   },
   "outputs": [
    {
     "data": {
      "text/plain": [
       "<Axes: >"
      ]
     },
     "execution_count": 69,
     "metadata": {},
     "output_type": "execute_result"
    },
    {
     "data": {
      "image/png": "[encoded data removed]",
      "text/plain": [
       "<Figure size 640x480 with 1 Axes>"
      ]
     },
     "metadata": {},
     "output_type": "display_data"
    }
   ],
   "source": [
    "loss_df = pd.DataFrame(model.history.history)\n",
    "loss_df.plot()"
   ]
  },
  {
   "cell_type": "code",
   "execution_count": 70,
   "id": "3432d37f",
   "metadata": {
    "execution": {
     "iopub.execute_input": "2022-03-13T16:37:41.133432Z",
     "iopub.status.busy": "2022-03-13T16:37:41.132412Z",
     "iopub.status.idle": "2022-03-13T16:37:41.259694Z",
     "shell.execute_reply": "2022-03-13T16:37:41.260322Z",
     "shell.execute_reply.started": "2022-03-13T16:29:02.626115Z"
    },
    "papermill": {
     "duration": 1.856183,
     "end_time": "2022-03-13T16:37:41.260502",
     "exception": false,
     "start_time": "2022-03-13T16:37:39.404319",
     "status": "completed"
    },
    "tags": []
   },
   "outputs": [
    {
     "name": "stdout",
     "output_type": "stream",
     "text": [
      "loss :  0.5739368200302124\n",
      "recall :  0.686274528503418\n"
     ]
    }
   ],
   "source": [
    "loss, recall = model.evaluate(X_test, y_test, verbose=0)\n",
    "print(\"loss : \", loss)\n",
    "print(\"recall : \", recall)"
   ]
  },
  {
   "cell_type": "code",
   "execution_count": 71,
   "id": "49f1742a",
   "metadata": {
    "execution": {
     "iopub.execute_input": "2022-03-13T16:37:44.061519Z",
     "iopub.status.busy": "2022-03-13T16:37:44.060410Z",
     "iopub.status.idle": "2022-03-13T16:37:44.205433Z",
     "shell.execute_reply": "2022-03-13T16:37:44.206329Z",
     "shell.execute_reply.started": "2022-03-13T16:29:02.761613Z"
    },
    "papermill": {
     "duration": 1.550408,
     "end_time": "2022-03-13T16:37:44.206582",
     "exception": false,
     "start_time": "2022-03-13T16:37:42.656174",
     "status": "completed"
    },
    "tags": []
   },
   "outputs": [
    {
     "name": "stdout",
     "output_type": "stream",
     "text": [
      "32/32 [==============================] - 0s 2ms/step\n",
      "[[578 218]\n",
      " [ 64 140]]\n",
      "              precision    recall  f1-score   support\n",
      "\n",
      "           0       0.90      0.73      0.80       796\n",
      "           1       0.39      0.69      0.50       204\n",
      "\n",
      "    accuracy                           0.72      1000\n",
      "   macro avg       0.65      0.71      0.65      1000\n",
      "weighted avg       0.80      0.72      0.74      1000\n",
      "\n"
     ]
    }
   ],
   "source": [
    "y_pred = (model.predict(X_test) > 0.5).astype(\"int32\")\n",
    "print(confusion_matrix(y_test, y_pred))\n",
    "print(classification_report(y_test, y_pred))"
   ]
  },
  {
   "cell_type": "code",
   "execution_count": 72,
   "id": "e4e35562",
   "metadata": {
    "execution": {
     "iopub.execute_input": "2022-03-13T16:37:47.001896Z",
     "iopub.status.busy": "2022-03-13T16:37:47.000766Z",
     "iopub.status.idle": "2022-03-13T16:37:47.027893Z",
     "shell.execute_reply": "2022-03-13T16:37:47.027165Z",
     "shell.execute_reply.started": "2022-03-13T16:29:02.877661Z"
    },
    "papermill": {
     "duration": 1.423772,
     "end_time": "2022-03-13T16:37:47.028058",
     "exception": false,
     "start_time": "2022-03-13T16:37:45.604286",
     "status": "completed"
    },
    "tags": []
   },
   "outputs": [],
   "source": [
    "model.save('model_churn.h5')"
   ]
  },
  {
   "cell_type": "markdown",
   "id": "00975a9a",
   "metadata": {
    "id": "Cq10ovAX6daY",
    "papermill": {
     "duration": 1.415132,
     "end_time": "2022-03-13T16:37:49.884882",
     "exception": false,
     "start_time": "2022-03-13T16:37:48.469750",
     "status": "completed"
    },
    "tags": []
   },
   "source": [
    "### Prediction"
   ]
  },
  {
   "cell_type": "code",
   "execution_count": 73,
   "id": "2fb445ad",
   "metadata": {
    "execution": {
     "iopub.execute_input": "2022-03-13T16:37:52.999453Z",
     "iopub.status.busy": "2022-03-13T16:37:52.995058Z",
     "iopub.status.idle": "2022-03-13T16:37:53.003157Z",
     "shell.execute_reply": "2022-03-13T16:37:53.003728Z",
     "shell.execute_reply.started": "2022-03-13T16:29:02.905137Z"
    },
    "papermill": {
     "duration": 1.399579,
     "end_time": "2022-03-13T16:37:53.003908",
     "exception": false,
     "start_time": "2022-03-13T16:37:51.604329",
     "status": "completed"
    },
    "tags": []
   },
   "outputs": [
    {
     "data": {
      "text/plain": [
       "RowNumber               1.00\n",
       "CreditScore           619.00\n",
       "Geography               0.00\n",
       "Gender                  0.00\n",
       "Age                    42.00\n",
       "Tenure                  2.00\n",
       "Balance                 0.00\n",
       "NumOfProducts           1.00\n",
       "HasCrCard               1.00\n",
       "IsActiveMember          1.00\n",
       "EstimatedSalary    101348.88\n",
       "Name: 0, dtype: float64"
      ]
     },
     "execution_count": 73,
     "metadata": {},
     "output_type": "execute_result"
    }
   ],
   "source": [
    "single_customer = df.drop('Exited', axis=1).iloc[0]\n",
    "single_customer"
   ]
  },
  {
   "cell_type": "code",
   "execution_count": 74,
   "id": "2814ba85",
   "metadata": {
    "execution": {
     "iopub.execute_input": "2022-03-13T16:37:55.849482Z",
     "iopub.status.busy": "2022-03-13T16:37:55.847241Z",
     "iopub.status.idle": "2022-03-13T16:37:55.852371Z",
     "shell.execute_reply": "2022-03-13T16:37:55.851746Z",
     "shell.execute_reply.started": "2022-03-13T16:29:02.916690Z"
    },
    "papermill": {
     "duration": 1.424065,
     "end_time": "2022-03-13T16:37:55.852512",
     "exception": false,
     "start_time": "2022-03-13T16:37:54.428447",
     "status": "completed"
    },
    "tags": []
   },
   "outputs": [
    {
     "data": {
      "text/plain": [
       "array([[0.        , 0.538     , 0.        , 0.        , 0.32432432,\n",
       "        0.2       , 0.        , 0.        , 1.        , 1.        ,\n",
       "        0.50673489]])"
      ]
     },
     "execution_count": 74,
     "metadata": {},
     "output_type": "execute_result"
    }
   ],
   "source": [
    "single_customer = scaler.transform(single_customer.values.reshape(-1, 11))\n",
    "single_customer"
   ]
  },
  {
   "cell_type": "code",
   "execution_count": 75,
   "id": "e88627d6",
   "metadata": {
    "execution": {
     "iopub.execute_input": "2022-03-13T16:37:58.683270Z",
     "iopub.status.busy": "2022-03-13T16:37:58.682211Z",
     "iopub.status.idle": "2022-03-13T16:37:58.738739Z",
     "shell.execute_reply": "2022-03-13T16:37:58.738168Z",
     "shell.execute_reply.started": "2022-03-13T16:29:02.925587Z"
    },
    "papermill": {
     "duration": 1.466656,
     "end_time": "2022-03-13T16:37:58.738901",
     "exception": false,
     "start_time": "2022-03-13T16:37:57.272245",
     "status": "completed"
    },
    "tags": []
   },
   "outputs": [
    {
     "name": "stdout",
     "output_type": "stream",
     "text": [
      "1/1 [==============================] - 0s 184ms/step\n"
     ]
    },
    {
     "data": {
      "text/plain": [
       "array([[0]], dtype=int32)"
      ]
     },
     "execution_count": 75,
     "metadata": {},
     "output_type": "execute_result"
    }
   ],
   "source": [
    "y_pred =(model.predict(single_customer) > 0.5).astype(\"int32\")\n",
    "y_pred"
   ]
  },
  {
   "cell_type": "code",
   "execution_count": 76,
   "id": "e8d7eb42",
   "metadata": {
    "execution": {
     "iopub.execute_input": "2022-03-13T16:38:02.554258Z",
     "iopub.status.busy": "2022-03-13T16:38:02.553527Z",
     "iopub.status.idle": "2022-03-13T16:38:02.557360Z",
     "shell.execute_reply": "2022-03-13T16:38:02.558047Z",
     "shell.execute_reply.started": "2022-03-13T16:29:02.970209Z"
    },
    "papermill": {
     "duration": 2.383844,
     "end_time": "2022-03-13T16:38:02.558412",
     "exception": false,
     "start_time": "2022-03-13T16:38:00.174568",
     "status": "completed"
    },
    "tags": []
   },
   "outputs": [
    {
     "data": {
      "text/plain": [
       "1"
      ]
     },
     "execution_count": 76,
     "metadata": {},
     "output_type": "execute_result"
    }
   ],
   "source": [
    "df[\"Exited\"].iloc[0]"
   ]
  },
  {
   "cell_type": "markdown",
   "id": "f749c72e",
   "metadata": {
    "papermill": {
     "duration": 1.39377,
     "end_time": "2022-03-13T16:38:05.438531",
     "exception": false,
     "start_time": "2022-03-13T16:38:04.044761",
     "status": "completed"
    },
    "tags": []
   },
   "source": [
    "## Comparison with ML"
   ]
  },
  {
   "cell_type": "markdown",
   "id": "83642a2c",
   "metadata": {
    "papermill": {
     "duration": 1.429604,
     "end_time": "2022-03-13T16:38:08.267443",
     "exception": false,
     "start_time": "2022-03-13T16:38:06.837839",
     "status": "completed"
    },
    "tags": []
   },
   "source": [
    "### Logistic Regression"
   ]
  },
  {
   "cell_type": "code",
   "execution_count": 77,
   "id": "a9c90de2",
   "metadata": {
    "execution": {
     "iopub.execute_input": "2022-03-13T16:38:11.076346Z",
     "iopub.status.busy": "2022-03-13T16:38:11.075398Z",
     "iopub.status.idle": "2022-03-13T16:38:11.151021Z",
     "shell.execute_reply": "2022-03-13T16:38:11.151547Z",
     "shell.execute_reply.started": "2022-03-13T16:29:02.980303Z"
    },
    "papermill": {
     "duration": 1.492362,
     "end_time": "2022-03-13T16:38:11.151739",
     "exception": false,
     "start_time": "2022-03-13T16:38:09.659377",
     "status": "completed"
    },
    "tags": []
   },
   "outputs": [],
   "source": [
    "from sklearn.linear_model import LogisticRegression"
   ]
  },
  {
   "cell_type": "code",
   "execution_count": 78,
   "id": "aebe20f2",
   "metadata": {
    "execution": {
     "iopub.execute_input": "2022-03-13T16:38:14.283591Z",
     "iopub.status.busy": "2022-03-13T16:38:14.282548Z",
     "iopub.status.idle": "2022-03-13T16:38:14.350771Z",
     "shell.execute_reply": "2022-03-13T16:38:14.349435Z",
     "shell.execute_reply.started": "2022-03-13T16:29:03.049164Z"
    },
    "papermill": {
     "duration": 1.673059,
     "end_time": "2022-03-13T16:38:14.351104",
     "exception": false,
     "start_time": "2022-03-13T16:38:12.678045",
     "status": "completed"
    },
    "tags": []
   },
   "outputs": [
    {
     "name": "stdout",
     "output_type": "stream",
     "text": [
      "[[548 248]\n",
      " [ 57 147]]\n",
      "              precision    recall  f1-score   support\n",
      "\n",
      "           0       0.91      0.69      0.78       796\n",
      "           1       0.37      0.72      0.49       204\n",
      "\n",
      "    accuracy                           0.69      1000\n",
      "   macro avg       0.64      0.70      0.64      1000\n",
      "weighted avg       0.80      0.69      0.72      1000\n",
      "\n"
     ]
    }
   ],
   "source": [
    "log_model=LogisticRegression(class_weight='balanced')\n",
    "log_model.fit(X_train, y_train)\n",
    "y_pred = log_model.predict(X_test)\n",
    "print(confusion_matrix(y_test, y_pred))\n",
    "print(classification_report(y_test, y_pred))"
   ]
  },
  {
   "cell_type": "markdown",
   "id": "eaad577c",
   "metadata": {
    "papermill": {
     "duration": 1.420343,
     "end_time": "2022-03-13T16:38:17.215969",
     "exception": false,
     "start_time": "2022-03-13T16:38:15.795626",
     "status": "completed"
    },
    "tags": []
   },
   "source": [
    "### Random Forest"
   ]
  },
  {
   "cell_type": "code",
   "execution_count": 79,
   "id": "408e9d0e",
   "metadata": {
    "execution": {
     "iopub.execute_input": "2022-03-13T16:38:20.039341Z",
     "iopub.status.busy": "2022-03-13T16:38:20.038401Z",
     "iopub.status.idle": "2022-03-13T16:38:20.172999Z",
     "shell.execute_reply": "2022-03-13T16:38:20.173792Z",
     "shell.execute_reply.started": "2022-03-13T16:29:03.104136Z"
    },
    "papermill": {
     "duration": 1.556864,
     "end_time": "2022-03-13T16:38:20.173996",
     "exception": false,
     "start_time": "2022-03-13T16:38:18.617132",
     "status": "completed"
    },
    "tags": []
   },
   "outputs": [],
   "source": [
    "from sklearn.ensemble import RandomForestClassifier\n"
   ]
  },
  {
   "cell_type": "code",
   "execution_count": 80,
   "id": "c13638e8",
   "metadata": {
    "execution": {
     "iopub.execute_input": "2022-03-13T16:38:22.981898Z",
     "iopub.status.busy": "2022-03-13T16:38:22.980819Z",
     "iopub.status.idle": "2022-03-13T16:38:24.362417Z",
     "shell.execute_reply": "2022-03-13T16:38:24.363100Z",
     "shell.execute_reply.started": "2022-03-13T16:29:03.235000Z"
    },
    "papermill": {
     "duration": 2.780615,
     "end_time": "2022-03-13T16:38:24.363298",
     "exception": false,
     "start_time": "2022-03-13T16:38:21.582683",
     "status": "completed"
    },
    "tags": []
   },
   "outputs": [
    {
     "name": "stdout",
     "output_type": "stream",
     "text": [
      "[[770  26]\n",
      " [127  77]]\n",
      "              precision    recall  f1-score   support\n",
      "\n",
      "           0       0.86      0.97      0.91       796\n",
      "           1       0.75      0.38      0.50       204\n",
      "\n",
      "    accuracy                           0.85      1000\n",
      "   macro avg       0.80      0.67      0.71      1000\n",
      "weighted avg       0.84      0.85      0.83      1000\n",
      "\n"
     ]
    }
   ],
   "source": [
    "rf_model = RandomForestClassifier(class_weight='balanced')\n",
    "rf_model.fit(X_train, y_train)\n",
    "y_pred = rf_model.predict(X_test)\n",
    "print(confusion_matrix(y_test, y_pred))\n",
    "print(classification_report(y_test, y_pred))"
   ]
  },
  {
   "cell_type": "code",
   "execution_count": null,
   "id": "aa4570aa",
   "metadata": {},
   "outputs": [],
   "source": []
  },
  {
   "cell_type": "code",
   "execution_count": null,
   "id": "67f22264",
   "metadata": {},
   "outputs": [],
   "source": []
  },
  {
   "cell_type": "markdown",
   "id": "027657a1",
   "metadata": {
    "papermill": {
     "duration": 0.149353,
     "end_time": "2022-03-13T16:33:15.972259",
     "exception": false,
     "start_time": "2022-03-13T16:33:15.822906",
     "status": "completed"
    },
    "tags": []
   },
   "source": [
    "___\n",
    "\n",
    "<p style=\"text-align: center;\"><img src=\"https://docs.google.com/uc?id=1lY0Uj5R04yMY3-ZppPWxqCr5pvBLYPnV\" class=\"img-fluid\" alt=\"CLRSWY\"></p>\n",
    "\n",
    "___"
   ]
  }
 ],
 "metadata": {
  "kernelspec": {
   "display_name": "Python 3 (ipykernel)",
   "language": "python",
   "name": "python3"
  },
  "language_info": {
   "codemirror_mode": {
    "name": "ipython",
    "version": 3
   },
   "file_extension": ".py",
   "mimetype": "text/x-python",
   "name": "python",
   "nbconvert_exporter": "python",
   "pygments_lexer": "ipython3",
   "version": "3.11.3"
  },
  "papermill": {
   "default_parameters": {},
   "duration": 326.375729,
   "end_time": "2022-03-13T16:38:32.137577",
   "environment_variables": {},
   "exception": null,
   "input_path": "__notebook__.ipynb",
   "output_path": "__notebook__.ipynb",
   "parameters": {},
   "start_time": "2022-03-13T16:33:05.761848",
   "version": "2.3.3"
  }
 },
 "nbformat": 4,
 "nbformat_minor": 5
}
